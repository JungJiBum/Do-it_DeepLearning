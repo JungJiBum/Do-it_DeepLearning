{
 "cells": [
  {
   "cell_type": "code",
   "execution_count": 1,
   "metadata": {
    "executionInfo": {
     "elapsed": 1496,
     "status": "ok",
     "timestamp": 1601815458166,
     "user": {
      "displayName": "정지범",
      "photoUrl": "",
      "userId": "07020050643692955953"
     },
     "user_tz": -540
    },
    "id": "-Wpu0a2HijSP"
   },
   "outputs": [],
   "source": [
    "import numpy as np\n",
    "import matplotlib.pyplot as plt\n",
    "from sklearn.datasets import load_breast_cancer  #유방암 데이터 호출\n",
    "from sklearn.model_selection import train_test_split  # 데이터를 분리하기위한 test_split\n",
    "\n",
    "cancer = load_breast_cancer()  # cancer변수에 유방암데이터 선언\n",
    "x = cancer.data                # x는 유방암데이터의 데이터값\n",
    "y = cancer.target              # y는 유방암데이터의 타겟값\n",
    "\n",
    "x_train_all, x_test, y_train_all, y_test = train_test_split(x, y, stratify=y, test_size=0.2, random_state=42)\n",
    "# 타겟 데이터를 고르게 분포 (stratify = y)\n",
    "# test_size는 데이터 세트의 비율을 조절할떄 사용\n",
    "# random_state는 무작위로 데이터를 섞은 다음 나누기 위해 사용\n",
    "\n",
    "# x(569,30) 개의 데이터를 x_train_all(455,30) 과 x_test(114,30) 으로 분리한다.\n",
    "# y(569, ) 개의 타겟을 y_train_all(455, ) 와 y_test(114, )로 분리한다.\n",
    "\n",
    "x_train, x_val, y_train, y_val = train_test_split(x_train_all, y_train_all, stratify=y_train_all, test_size=0.2, random_state=42)\n",
    "#x_train_all(455,30)을 x_train(364,30)과 x_val(91,30)으로 분리한다 train은 훈련데이터 val은 검증데이터\n",
    "#y_train_all(455, )를 y_train(364, )와 y_val(91, )로 분리한다 "
   ]
  },
  {
   "cell_type": "code",
   "execution_count": 2,
   "metadata": {
    "colab": {
     "base_uri": "https://localhost:8080/",
     "height": 34
    },
    "executionInfo": {
     "elapsed": 1486,
     "status": "ok",
     "timestamp": 1601815458167,
     "user": {
      "displayName": "정지범",
      "photoUrl": "",
      "userId": "07020050643692955953"
     },
     "user_tz": -540
    },
    "id": "owA2iNk5jHxW",
    "outputId": "c451248d-3646-4d5e-91e8-dca5f18ee1a1"
   },
   "outputs": [
    {
     "name": "stdout",
     "output_type": "stream",
     "text": [
      "(364, 30) (91, 30)\n"
     ]
    }
   ],
   "source": [
    "#데이터 크기확인\n",
    "print(x_train.shape, x_val.shape)\n",
    "\n"
   ]
  },
  {
   "cell_type": "code",
   "execution_count": 3,
   "metadata": {
    "executionInfo": {
     "elapsed": 1258,
     "status": "ok",
     "timestamp": 1601815567859,
     "user": {
      "displayName": "정지범",
      "photoUrl": "",
      "userId": "07020050643692955953"
     },
     "user_tz": -540
    },
    "id": "nafui_xRjyKB"
   },
   "outputs": [],
   "source": [
    "class SingleLayer:\n",
    "\n",
    "    def __init__(self, learning_rate=0.1, l1=0, l2=0):  #learning_rate 는 학습률 \n",
    "        self.w = None #가중치\n",
    "        self.b = None #절편\n",
    "        self.losses = []  #훈련 손실\n",
    "        self.val_losses = [] #검증 손실\n",
    "        self.w_history = [] #가중치 기록\n",
    "        self.lr = learning_rate #학습률\n",
    "        self.l1 = l1  #L1 손실 하이퍼 파라미터\n",
    "        self.l2 = l2  #L2 손실 하이퍼 파라미터\n",
    "    \n",
    "    def forpass(self, x):             # 정방향 계산\n",
    "        z = np.dot(x,self.w) + self.b # 선형 출력을 계산함 / 기존엔 np.sum(x * self.w ) + self.b 라고 사용함\n",
    "        return z                     # np.sum() 행렬 연산 / np.dot() 행렬 곱셈\n",
    "\n",
    "    def backprop(self, x, err):         # 역방향 계산\n",
    "        m = len(x)                      # m은 x_train의 길이 (364)\n",
    "        w_grad = np.dot(x.T, err) / m   # 가중치에 대한 그레이디언트 계산 x.T는 X를 전치한값 (30,364)*(364,1)=(30,1)/ m(364)\n",
    "        b_grad = np.sum(err) / m        # 절편에 대한 그레이디언트 계산\n",
    "        return w_grad, b_grad\n",
    "  \n",
    "    def activation(self, z):\n",
    "        a = 1 / (1 + np.exp(-z))       #시그모이드 계산 / exp함수는 각 성분을 무리수 e의 지수로 삼은 값을 계산함\n",
    "        return a\n",
    "  \n",
    "    def fit(self, x, y, epochs=100, x_val=None, y_val=None):\n",
    "        y = y.reshape(-1, 1)  #타깃을 열 벡터로 바꿈\n",
    "        y_val = y_val.reshape(-1, 1) #검증용 타깃을 열 벡터로 바꿈\n",
    "        \n",
    "        m = len(x)                    #샘플 갯수를 저장\n",
    "        self.w = np.ones((x.shape[1], 1)) #가중치를 초기화함\n",
    "        self.b = 0                      # 절편을 초기화함\n",
    "        self.w_history.append(self.w.copy()) # 가중치 기록\n",
    "        #epochs만큼 반복\n",
    "        for i in range(epochs):\n",
    "            z = self.forpass(x)             #정방향 계산을 수행\n",
    "            a = self.activation(z)          #활성화 함수를 적용\n",
    "            err = -(y - a)                  #오차를 계산합니다\n",
    "            # 오차를 역전파 하여 그레이디언트를 계산\n",
    "            w_grad, b_grad = self.backprop(x, err)\n",
    "            #그레이디언트에서 페널티 항의 미분값을 뺍니다\n",
    "            w_grad += (self.l1 * np.sign(self.w) + self.l2 * self.w) / m  #sign함수는 각 성분의 부호를 계산함 +인경우1 -인경우 -1 0은0\n",
    "            #가중치와 절편을 업데이트 합니다\n",
    "            self.w -= self.lr * w_grad\n",
    "            self.b -= self.lr * b_grad\n",
    "            #가중치를 기록함\n",
    "            self.w_history.append(self.w.copy())\n",
    "            #안전한 로그 계산을 위해 클리핑 합니다.\n",
    "            a = np.clip(a, 1e-10, 1-1e-10)\n",
    "            #로그 손실과 규제 손실을 더하여 리스트에 추가합니다.\n",
    "            loss = np.sum(-(y*np.log(a) + (1-y)*np.log(1-a)))\n",
    "            self.losses.append((loss + self.reg_loss()) / m)\n",
    "            #검증 세트에 대한 손실을 계산함\n",
    "            self.update_val_loss(x_val, y_val)\n",
    "  \n",
    "    def predict(self, x):\n",
    "        z = self.forpass(x)   #정방향 계산을 수행\n",
    "        return z > 0          #스텝 함수를 적용\n",
    "\n",
    "    def score(self, x, y):\n",
    "        #예측과 타깃 열 벡터를 비교하여 True의 비율을 반환\n",
    "        return np.mean(self.predict(x) == y.reshape(-1, 1))\n",
    "\n",
    "    def reg_loss(self):\n",
    "        #가중치에 대한 규제를 적용\n",
    "        return self.l1 * np.sum(np.abs(self.w)) + self.l2 / 2 * np.sum(self.w**2)\n",
    "\n",
    "    def update_val_loss(self, x_val, y_val):\n",
    "        z = self.forpass(x_val)                   #정방향 계산을 수행\n",
    "        a = self.activation(z)                    #활성화 함수를 적용\n",
    "        a = np.clip(a, 1e-10, 1-1e-10)            #출력값을 클리핑함\n",
    "        #로그 손실과 규제 손실을 더하여 리스트에 추가합니다.\n",
    "        val_loss = np.sum(-(y_val * np.log(a) + (1-y_val) * np.log(1-a)))\n",
    "        self.val_losses.append((val_loss + self.reg_loss()) / len(y_val))"
   ]
  },
  {
   "cell_type": "code",
   "execution_count": 4,
   "metadata": {
    "executionInfo": {
     "elapsed": 1039,
     "status": "ok",
     "timestamp": 1601815567861,
     "user": {
      "displayName": "정지범",
      "photoUrl": "",
      "userId": "07020050643692955953"
     },
     "user_tz": -540
    },
    "id": "V-MicQ1Ck-n5"
   },
   "outputs": [],
   "source": [
    "#훈련데이터 표준화 전처리하기 두줄은 이미 위에서 import함\n",
    "#import numpy as np\n",
    "#import matplotlib.pyplot as plt\n",
    "from sklearn.preprocessing import StandardScaler"
   ]
  },
  {
   "cell_type": "code",
   "execution_count": 5,
   "metadata": {
    "executionInfo": {
     "elapsed": 599,
     "status": "ok",
     "timestamp": 1601815567861,
     "user": {
      "displayName": "정지범",
      "photoUrl": "",
      "userId": "07020050643692955953"
     },
     "user_tz": -540
    },
    "id": "kW2lEhXoopm4"
   },
   "outputs": [],
   "source": [
    "scaler = StandardScaler()\n",
    "scaler.fit(x_train)\n",
    "x_train_scaled = scaler.transform(x_train)\n",
    "x_val_scaled = scaler.transform(x_val)\n",
    "#x_train_scaled 는 훈련 세트를 전처리하여 표준화를 적용\n",
    "#x_val_scaled 는 검증 세트를 전처리하여 표준화 적용\n",
    "\n"
   ]
  },
  {
   "cell_type": "code",
   "execution_count": 6,
   "metadata": {
    "colab": {
     "base_uri": "https://localhost:8080/",
     "height": 34
    },
    "executionInfo": {
     "elapsed": 4414,
     "status": "ok",
     "timestamp": 1601815572132,
     "user": {
      "displayName": "정지범",
      "photoUrl": "",
      "userId": "07020050643692955953"
     },
     "user_tz": -540
    },
    "id": "9OYORqIEo3tr",
    "outputId": "48fce446-f278-47e5-ef3b-91b56482e1a9"
   },
   "outputs": [
    {
     "data": {
      "text/plain": [
       "0.978021978021978"
      ]
     },
     "execution_count": 6,
     "metadata": {},
     "output_type": "execute_result"
    }
   ],
   "source": [
    "single_layer = SingleLayer(l2=0.01)\n",
    "single_layer.fit(x_train_scaled , y_train, x_val=x_val_scaled, y_val=y_val, epochs=10000)\n",
    "single_layer.score(x_val_scaled, y_val)\n"
   ]
  },
  {
   "cell_type": "code",
   "execution_count": 7,
   "metadata": {
    "colab": {
     "base_uri": "https://localhost:8080/",
     "height": 283
    },
    "executionInfo": {
     "elapsed": 2738,
     "status": "ok",
     "timestamp": 1601815658206,
     "user": {
      "displayName": "정지범",
      "photoUrl": "",
      "userId": "07020050643692955953"
     },
     "user_tz": -540
    },
    "id": "nZ6CUExrpVmp",
    "outputId": "98fc094c-48f9-4b2e-ce46-638fcf7ccc6a"
   },
   "outputs": [
    {
     "data": {
      "image/png": "[encoded data removed]",
      "text/plain": [
       "<Figure size 432x288 with 1 Axes>"
      ]
     },
     "metadata": {
      "needs_background": "light"
     },
     "output_type": "display_data"
    }
   ],
   "source": [
    "plt.ylim(0, 0.3)\n",
    "plt.plot(single_layer.losses)\n",
    "plt.plot(single_layer.val_losses)\n",
    "plt.ylabel('loss')\n",
    "plt.xlabel('epoch')\n",
    "plt.legend(['train_loss', 'val_loss'])\n",
    "plt.show()"
   ]
  },
  {
   "cell_type": "code",
   "execution_count": 8,
   "metadata": {
    "colab": {
     "base_uri": "https://localhost:8080/",
     "height": 279
    },
    "executionInfo": {
     "elapsed": 1054,
     "status": "ok",
     "timestamp": 1601815849979,
     "user": {
      "displayName": "정지범",
      "photoUrl": "",
      "userId": "07020050643692955953"
     },
     "user_tz": -540
    },
    "id": "qAeKDKgkpzNX",
    "outputId": "319fc3fb-1c16-4273-f814-25db17b4896f"
   },
   "outputs": [
    {
     "data": {
      "image/png": "[encoded data removed]",
      "text/plain": [
       "<Figure size 432x288 with 1 Axes>"
      ]
     },
     "metadata": {
      "needs_background": "light"
     },
     "output_type": "display_data"
    }
   ],
   "source": [
    "w2 = []\n",
    "w3 = []\n",
    "for w in single_layer.w_history:\n",
    "    w2.append(w[2])\n",
    "    w3.append(w[3])\n",
    "\n",
    "plt.plot(w2,w3)\n",
    "plt.plot(w2[-1], w3[-1], 'ro')\n",
    "plt.xlabel('w[2]')\n",
    "plt.ylabel('w[3]')\n",
    "plt.show()"
   ]
  },
  {
   "cell_type": "code",
   "execution_count": 9,
   "metadata": {
    "id": "lyEOWtF1qHzl"
   },
   "outputs": [],
   "source": [
    "class DualLayer(SingleLayer):\n",
    "    \n",
    "    def __init__(self, units=10, learning_rate=0.1, l1=0, l2=0):\n",
    "        self.units = units  #은닉층의 뉴런개수\n",
    "        self.w1 = None  #은닉층의 가중치\n",
    "        self.b1 = None  #은닉층의 절편\n",
    "        self.w2 = None  #출력층의 가중치\n",
    "        self.b2 = None  #출력층의 절편\n",
    "        self.a1 = None  #은닉층의 활성화 출력\n",
    "        self.losses = []  #훈련손실\n",
    "        self.val_losses = []  #검증 손실\n",
    "        self.lr = learning_rate  #학습률\n",
    "        self.l1 = l1  #L1 손실 하이퍼파라미터\n",
    "        self.l2 = l2  #L2 손실 하이퍼파라미터\n",
    "    \n",
    "    def forpass(self, x):\n",
    "        z1 = np.dot(x, self.w1) + self.b1  #첫번째 층의 선형식 계산\n",
    "        self.a1 = self.activation(z1)  #활성화 함수를 적용\n",
    "        z2 = np.dot(self.a1, self.w2) + self.b2  #두번째 층의 선형식 계산\n",
    "        return z2\n",
    "    \n",
    "    def backprop(self, x, err):\n",
    "        m = len(x)  # 샘플 개수\n",
    "        #출력층의 가중치와 절편에 대한 그레이디언트를 계산\n",
    "        w2_grad = np.dot(self.a1.T, err) / m\n",
    "        b2_grad = np.sum(err) / m\n",
    "        #시그모이드 함수까지 그레이디언트를 계산함\n",
    "        err_to_hidden = np.dot(err, self.w2.T) * self.a1 * (1 - self.a1)\n",
    "        #은닉층의 가중치와 절편에 대한 그레이디언트를 계산합니다.\n",
    "        w1_grad = np.dot(x.T, err_to_hidden) / m\n",
    "        b1_grad = np.sum(err_to_hidden, axis = 0) / m\n",
    "        return w1_grad, b1_grad, w2_grad, b2_grad\n",
    "    \n",
    "    def init_weights(self, n_features):\n",
    "        #ones()함수는 인자로 받는 크기만큼 모든 요소를 1로만듬\n",
    "        #zeros()함수는 인자로 받는 크기만큼 모든 요소를 1로만듬\n",
    "        self.w1 = np.ones((n_features, self.units))  #(특성개수, 은닉층의 크기)\n",
    "        self.b1 = np.zeros(self.units)  #은닉층의 크기\n",
    "        self.w2 = np.ones((self.units, 1))  #(은닉층의 크기, 1)\n",
    "        self.b2 = 0\n",
    "        \n",
    "    def fit(self, x, y, epochs=100, x_val=None, y_val = None):\n",
    "        y = y.reshape(-1, 1)  #타깃을 열 벡터로 바꿈.\n",
    "        y_val = y_val.reshape(-1, 1)\n",
    "        m = len(x)           #샘플 개수 저장\n",
    "        self.init_weights(x.shape[1])   # 은닉층과 출력층의 가중치를 초기화\n",
    "        # epochs 만큼 반복\n",
    "        for i in range(epochs):\n",
    "            a = self.training(x, y, m)\n",
    "            # 안전한 로그 계산을 위해 클리핑\n",
    "            a = np.clip(a, 1e-10, 1-1e-10)\n",
    "            # 로그 손실과 규제 손실을 더하여 리스트에 추가함\n",
    "            loss = np.sum(-(y*np.log(a) + (1-y) * np.log(1-a)))\n",
    "            self.losses.append((loss + self.reg_loss()) / m)\n",
    "            # 검증 세트에 대한 손실을 계산함\n",
    "            self.update_val_loss(x_val, y_val)\n",
    "            \n",
    "    def training(self, x, y, m):\n",
    "        z = self.forpass(x)   # 정방향 계산을 수행 함\n",
    "        a = self.activation(z)  # 활성화 함수를 적용함\n",
    "        err = -(y - a)\n",
    "        # 오차를 역전파 하여 그레이디언트를 계산함\n",
    "        w1_grad, b1_grad, w2_grad, b2_grad = self.backprop(x, err)\n",
    "        # 그레이디언트에서 패널티 항의 미분값을 뺍니다.\n",
    "        w1_grad += (self.l1 * np.sign(self.w1) + self.l2 * self.w1) / m  #sign()함수는 각 성분의 부호계산(+인경우 1 -인경우 -1 0은0)\n",
    "        w2_grad += (self.l1 * np.sign(self.w2) + self.l2 * self.w2) / m\n",
    "        #은닉층의 가중치와 절편을 업데이트함\n",
    "        self.w1 -= self.lr * w1_grad\n",
    "        self.b1 -= self.lr * b1_grad\n",
    "        #출력층의 가중치와 절편을 업데이트함\n",
    "        self.w2 -= self.lr * w2_grad\n",
    "        self.b2 -= self.lr * b2_grad\n",
    "        return a\n",
    "        \n",
    "    def reg_loss(self):\n",
    "        #은닉층의 출력층의 가중치에 규제를 적용함\n",
    "        return self.l1 * (np.sum(np.abs(self.w1)) + np.sum(np.abs(self.w2))) + self.l2 / 2 * (np.sum(self.w1**2) + np.sum(self.w2**2))\n",
    "        "
   ]
  },
  {
   "cell_type": "code",
   "execution_count": 10,
   "metadata": {},
   "outputs": [
    {
     "data": {
      "text/plain": [
       "0.978021978021978"
      ]
     },
     "execution_count": 10,
     "metadata": {},
     "output_type": "execute_result"
    }
   ],
   "source": [
    "dual_layer = DualLayer(l2=0.01)\n",
    "dual_layer.fit(x_train_scaled, y_train, x_val = x_val_scaled, y_val=y_val, epochs=20000)\n",
    "dual_layer.score(x_val_scaled, y_val)"
   ]
  },
  {
   "cell_type": "code",
   "execution_count": 11,
   "metadata": {},
   "outputs": [
    {
     "data": {
      "image/png": "[encoded data removed]",
      "text/plain": [
       "<Figure size 432x288 with 1 Axes>"
      ]
     },
     "metadata": {
      "needs_background": "light"
     },
     "output_type": "display_data"
    }
   ],
   "source": [
    "plt.ylim(0, 0.3)\n",
    "plt.plot(dual_layer.losses)\n",
    "plt.plot(dual_layer.val_losses)\n",
    "plt.ylabel('loss')\n",
    "plt.xlabel('epoch')\n",
    "plt.legend(['train_loss', 'val_loss'])\n",
    "plt.show()"
   ]
  },
  {
   "cell_type": "code",
   "execution_count": 12,
   "metadata": {},
   "outputs": [],
   "source": [
    "class RandomInitNetwork(DualLayer):\n",
    "    \n",
    "    def init_weights(self, n_features):\n",
    "        np.random.seed(42)\n",
    "        self.w1 = np.random.normal(0, 1, (n_features, self.units)) #(특성 개수, 은닉층의 크기) #0은 평균 1은 표준편차\n",
    "        self.b1 = np.zeros(self.units)  #은닉층의 크기\n",
    "        self.w2 = np.random.normal(0, 1, (self.units, 1))   #(은닉층의 크기, 1)\n",
    "        self.b2 = 0"
   ]
  },
  {
   "cell_type": "code",
   "execution_count": 13,
   "metadata": {},
   "outputs": [
    {
     "data": {
      "image/png": "[encoded data removed]",
      "text/plain": [
       "<Figure size 432x288 with 1 Axes>"
      ]
     },
     "metadata": {
      "needs_background": "light"
     },
     "output_type": "display_data"
    }
   ],
   "source": [
    "random_init_net = RandomInitNetwork(l2=0.01)\n",
    "random_init_net.fit(x_train_scaled, y_train, x_val=x_val_scaled, y_val=y_val, epochs=500)\n",
    "\n",
    "plt.ylim(0, 0.7)\n",
    "plt.plot(random_init_net.losses)\n",
    "plt.plot(random_init_net.val_losses)\n",
    "plt.ylabel('loss')\n",
    "plt.xlabel('epoch')\n",
    "plt.legend(['train_loss', 'val_loss'])\n",
    "plt.show()"
   ]
  },
  {
   "cell_type": "code",
   "execution_count": 14,
   "metadata": {},
   "outputs": [],
   "source": [
    "# 6-3 미니 배치를 사용하여 모델을 훈련하기\n",
    "class MinibatchNetwork(RandomInitNetwork):\n",
    "    \n",
    "    def __init__(self, units=10, batch_size = 32 , learning_rate = 0.1, l1=0, l2=0):\n",
    "        super().__init__(units, learning_rate, l1, l2)\n",
    "        self.batch_size = batch_size  #배치 크기\n",
    "    \n",
    "    def fit(self, x, y, epochs=100, x_val=None, y_val=None):\n",
    "        y = y.reshape(-1, 1)   #타깃을 열 벡터로 변경\n",
    "        self.init_weights(x.shape[1])  #은닉층과 출력층의 가중치를 초기화\n",
    "        np.random.seed(42)\n",
    "        #epochs만큼 반복\n",
    "        for i in range(epochs):\n",
    "            loss =0\n",
    "            #제너레이터 함수에서 반환한 미니 배치를 순환\n",
    "            for x_batch, y_batch in self.gen_batch(x,y):\n",
    "                y_batch = y_batch.reshape(-1, 1)  #타깃을 열벡터로 변경\n",
    "                y_val = y_val.reshape(-1, 1)   #교재에 없는코드\n",
    "                m = len(x_batch)  #샘플 개수 저장\n",
    "                a = self.training(x_batch, y_batch , m)\n",
    "                # 안전한 로그 계산을 위해 클리핑함\n",
    "                a = np.clip(a, 1e-10, 1-1e-10)\n",
    "                # 로그 손실과 규제 손실을 더하여 리스트에 추가함\n",
    "                loss += np.sum(-(y_batch * np.log(a) + (1-y_batch) * np.log(1-a)))\n",
    "            self.losses.append((loss + self.reg_loss()) / len(x))\n",
    "            # 검증 세트에 대한 손실을 계산함\n",
    "            self.update_val_loss(x_val, y_val)\n",
    "    \n",
    "    # 미니배치 제너레이터 함수\n",
    "    def gen_batch(self, x, y):\n",
    "        length = len(x)\n",
    "        bins = length // self.batch_size  #미니 배치횟수\n",
    "        if length % self.batch_size:\n",
    "            bins += 1     #나누어 떨어지지 않을때\n",
    "        indexes = np.random.permutation(np.arange(len(x)))  #인덱스를 섞는다\n",
    "        x = x[indexes]\n",
    "        y = y[indexes]\n",
    "        for i in range(bins):\n",
    "            start = self.batch_size * i\n",
    "            end = self.batch_size * (i + 1)\n",
    "            yield x[start:end], y[start:end]   # batch_size만큼 슬라이싱하여 반환한다"
   ]
  },
  {
   "cell_type": "code",
   "execution_count": 15,
   "metadata": {},
   "outputs": [
    {
     "data": {
      "text/plain": [
       "0.978021978021978"
      ]
     },
     "execution_count": 15,
     "metadata": {},
     "output_type": "execute_result"
    }
   ],
   "source": [
    "minibatch_net = MinibatchNetwork(l2 = 0.01, batch_size = 32)\n",
    "minibatch_net.fit(x_train_scaled, y_train, x_val = x_val_scaled, y_val = y_val, epochs=500)\n",
    "minibatch_net.score(x_val_scaled, y_val)\n"
   ]
  },
  {
   "cell_type": "code",
   "execution_count": 16,
   "metadata": {},
   "outputs": [
    {
     "data": {
      "image/png": "[encoded data removed]",
      "text/plain": [
       "<Figure size 432x288 with 1 Axes>"
      ]
     },
     "metadata": {
      "needs_background": "light"
     },
     "output_type": "display_data"
    }
   ],
   "source": [
    "plt.plot(minibatch_net.losses)\n",
    "plt.plot(minibatch_net.val_losses)\n",
    "plt.ylabel('loss')\n",
    "plt.xlabel('iteration')\n",
    "plt.legend(['train_loss', 'val_loss'])\n",
    "plt.show()"
   ]
  },
  {
   "cell_type": "code",
   "execution_count": 17,
   "metadata": {},
   "outputs": [
    {
     "data": {
      "text/plain": [
       "0.978021978021978"
      ]
     },
     "execution_count": 17,
     "metadata": {},
     "output_type": "execute_result"
    }
   ],
   "source": [
    "minibatch_net = MinibatchNetwork(l2 = 0.01, batch_size = 128)\n",
    "minibatch_net.fit(x_train_scaled, y_train, x_val = x_val_scaled, y_val = y_val, epochs=500)\n",
    "minibatch_net.score(x_val_scaled, y_val)\n"
   ]
  },
  {
   "cell_type": "code",
   "execution_count": 18,
   "metadata": {},
   "outputs": [
    {
     "data": {
      "image/png": "[encoded data removed]",
      "text/plain": [
       "<Figure size 432x288 with 1 Axes>"
      ]
     },
     "metadata": {
      "needs_background": "light"
     },
     "output_type": "display_data"
    }
   ],
   "source": [
    "plt.plot(minibatch_net.losses)\n",
    "plt.plot(minibatch_net.val_losses)\n",
    "plt.ylabel('loss')\n",
    "plt.xlabel('iteration')\n",
    "plt.legend(['train_loss', 'val_loss'])\n",
    "plt.show()"
   ]
  },
  {
   "cell_type": "code",
   "execution_count": 19,
   "metadata": {},
   "outputs": [
    {
     "data": {
      "text/plain": [
       "0.967032967032967"
      ]
     },
     "execution_count": 19,
     "metadata": {},
     "output_type": "execute_result"
    }
   ],
   "source": [
    "minibatch_net = MinibatchNetwork(l2 = 0.01, batch_size = 256)\n",
    "minibatch_net.fit(x_train_scaled, y_train, x_val = x_val_scaled, y_val = y_val, epochs=500)\n",
    "minibatch_net.score(x_val_scaled, y_val)"
   ]
  },
  {
   "cell_type": "code",
   "execution_count": 20,
   "metadata": {},
   "outputs": [
    {
     "data": {
      "image/png": "[encoded data removed]",
      "text/plain": [
       "<Figure size 432x288 with 1 Axes>"
      ]
     },
     "metadata": {
      "needs_background": "light"
     },
     "output_type": "display_data"
    }
   ],
   "source": [
    "plt.plot(minibatch_net.losses)\n",
    "plt.plot(minibatch_net.val_losses)\n",
    "plt.ylabel('loss')\n",
    "plt.xlabel('iteration')\n",
    "plt.legend(['train_loss', 'val_loss'])\n",
    "plt.show()"
   ]
  }
 ],
 "metadata": {
  "colab": {
   "authorship_tag": "ABX9TyO0EY5A84w1ZLLTrYanFQbn",
   "name": "다중신경망.ipynb",
   "provenance": []
  },
  "kernelspec": {
   "display_name": "Python 3",
   "language": "python",
   "name": "python3"
  },
  "language_info": {
   "codemirror_mode": {
    "name": "ipython",
    "version": 3
   },
   "file_extension": ".py",
   "mimetype": "text/x-python",
   "name": "python",
   "nbconvert_exporter": "python",
   "pygments_lexer": "ipython3",
   "version": "3.8.3"
  }
 },
 "nbformat": 4,
 "nbformat_minor": 1
}
