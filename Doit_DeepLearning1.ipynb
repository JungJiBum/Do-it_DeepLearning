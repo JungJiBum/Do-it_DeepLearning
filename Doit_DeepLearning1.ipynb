{
 "cells": [
  {
   "cell_type": "code",
   "execution_count": 1,
   "metadata": {
    "executionInfo": {
     "elapsed": 2421,
     "status": "ok",
     "timestamp": 1601708482156,
     "user": {
      "displayName": "정지범",
      "photoUrl": "",
      "userId": "07020050643692955953"
     },
     "user_tz": -540
    },
    "id": "95po8KkAXCEa"
   },
   "outputs": [],
   "source": [
    "#당뇨병 데이터 준비하기\n",
    "from sklearn.datasets import load_diabetes #사이킷런에서 당뇨병데이터 호출\n",
    "diabetes = load_diabetes()  #diabetes 라는 변수안에 당뇨병 데이터 선언"
   ]
  },
  {
   "cell_type": "code",
   "execution_count": 2,
   "metadata": {
    "colab": {
     "base_uri": "https://localhost:8080/",
     "height": 34
    },
    "executionInfo": {
     "elapsed": 2780,
     "status": "ok",
     "timestamp": 1601708482590,
     "user": {
      "displayName": "정지범",
      "photoUrl": "",
      "userId": "07020050643692955953"
     },
     "user_tz": -540
    },
    "id": "ntTyiukAXP44",
    "outputId": "7a43aa93-523f-4406-f1aa-3bd7449379c1"
   },
   "outputs": [
    {
     "name": "stdout",
     "output_type": "stream",
     "text": [
      "(442, 10) (442,)\n"
     ]
    }
   ],
   "source": [
    "#입력과 타깃 데이터 크기 확인하기\n",
    "print(diabetes.data.shape, diabetes.target.shape) # 당뇨병데이터의 데이터와 타겟을 출력\n",
    "#shape함수는 배열의 형태를 튜플로 반환해준다\n"
   ]
  },
  {
   "cell_type": "code",
   "execution_count": 3,
   "metadata": {
    "colab": {
     "base_uri": "https://localhost:8080/",
     "height": 119
    },
    "executionInfo": {
     "elapsed": 2750,
     "status": "ok",
     "timestamp": 1601708482590,
     "user": {
      "displayName": "정지범",
      "photoUrl": "",
      "userId": "07020050643692955953"
     },
     "user_tz": -540
    },
    "id": "VXKX5PJ2Xdby",
    "outputId": "cda77bb4-1211-4c1c-dbde-82c2c8866813"
   },
   "outputs": [
    {
     "data": {
      "text/plain": [
       "array([[ 0.03807591,  0.05068012,  0.06169621,  0.02187235, -0.0442235 ,\n",
       "        -0.03482076, -0.04340085, -0.00259226,  0.01990842, -0.01764613],\n",
       "       [-0.00188202, -0.04464164, -0.05147406, -0.02632783, -0.00844872,\n",
       "        -0.01916334,  0.07441156, -0.03949338, -0.06832974, -0.09220405],\n",
       "       [ 0.08529891,  0.05068012,  0.04445121, -0.00567061, -0.04559945,\n",
       "        -0.03419447, -0.03235593, -0.00259226,  0.00286377, -0.02593034]])"
      ]
     },
     "execution_count": 3,
     "metadata": {},
     "output_type": "execute_result"
    }
   ],
   "source": [
    "#데이터 자세히보기\n",
    "diabetes.data[0:3] # 슬라이싱을 사용하여 0부터 3미만까지 출력\n",
    "#따라서 결과값은 data의 1번,2번,3번 샘플의 10개의 특성값이 나온다"
   ]
  },
  {
   "cell_type": "code",
   "execution_count": 4,
   "metadata": {
    "colab": {
     "base_uri": "https://localhost:8080/",
     "height": 34
    },
    "executionInfo": {
     "elapsed": 2723,
     "status": "ok",
     "timestamp": 1601708482591,
     "user": {
      "displayName": "정지범",
      "photoUrl": "",
      "userId": "07020050643692955953"
     },
     "user_tz": -540
    },
    "id": "Z2W0RRh1Xj4p",
    "outputId": "2aac79e0-884b-410c-e3c3-e94b3dddaeaa"
   },
   "outputs": [
    {
     "data": {
      "text/plain": [
       "array([151.,  75., 141.])"
      ]
     },
     "execution_count": 4,
     "metadata": {},
     "output_type": "execute_result"
    }
   ],
   "source": [
    "#타깃 데이터 자세히보기\n",
    "diabetes.target[:3]\n",
    "#슬라이싱을 사용하여 3미만까지 출력\n",
    "#결과는 1번째 2번째 3번째 tartget값 출력"
   ]
  },
  {
   "cell_type": "code",
   "execution_count": 5,
   "metadata": {
    "colab": {
     "base_uri": "https://localhost:8080/",
     "height": 279
    },
    "executionInfo": {
     "elapsed": 2695,
     "status": "ok",
     "timestamp": 1601708482592,
     "user": {
      "displayName": "정지범",
      "photoUrl": "",
      "userId": "07020050643692955953"
     },
     "user_tz": -540
    },
    "id": "EpA174LpXo_w",
    "outputId": "9cf95f30-bce6-4d3b-a150-0b9805ebc403"
   },
   "outputs": [
    {
     "data": {
      "image/png": "[encoded data removed]",
      "text/plain": [
       "<Figure size 432x288 with 1 Axes>"
      ]
     },
     "metadata": {
      "needs_background": "light"
     },
     "output_type": "display_data"
    }
   ],
   "source": [
    "#맷플롯립 의 스캐터 함수로 산점도그리기\n",
    "import matplotlib.pyplot as plt\n",
    "plt.scatter(diabetes.data[:,2],diabetes.target)  #전체의 데이터중[:,2] 3번째feature를 선택 #X값과 Y값의 사이즈는 반드시 같아야함.\n",
    "plt.xlabel('x')\n",
    "plt.ylabel('y')\n",
    "plt.show()\n",
    "\n"
   ]
  },
  {
   "cell_type": "code",
   "execution_count": 6,
   "metadata": {
    "executionInfo": {
     "elapsed": 2694,
     "status": "ok",
     "timestamp": 1601708482592,
     "user": {
      "displayName": "정지범",
      "photoUrl": "",
      "userId": "07020050643692955953"
     },
     "user_tz": -540
    },
    "id": "BCCqNxyMX21w"
   },
   "outputs": [
    {
     "name": "stdout",
     "output_type": "stream",
     "text": [
      "0.0616962065186885\n"
     ]
    }
   ],
   "source": [
    "#훈련 데이터 준비하기\n",
    "x = diabetes.data[:,2] # x에 당뇨병데이터의 전체에서 3번쨰feature만 선언\n",
    "y = diabetes.target # Y에 당뇨병데이터의 target 값 선언\n",
    "print(x[0])"
   ]
  },
  {
   "cell_type": "markdown",
   "metadata": {
    "id": "ELFpLrEGYAPu"
   },
   "source": [
    "회귀알고리즘 중 선형 회귀 알고리즘의 개념을 알아보고 실제 알고리즘을 만들어보기 위한 당뇨병 데이터 셋을 준비함 03-2절에서는 경사하강법에 대해배운다."
   ]
  },
  {
   "cell_type": "code",
   "execution_count": 7,
   "metadata": {
    "executionInfo": {
     "elapsed": 2692,
     "status": "ok",
     "timestamp": 1601708482592,
     "user": {
      "displayName": "정지범",
      "photoUrl": "",
      "userId": "07020050643692955953"
     },
     "user_tz": -540
    },
    "id": "edLsHTJxX8CK"
   },
   "outputs": [],
   "source": [
    "#w,b 초기화하기 w는 가중치 / b는 절편\n",
    "w = 1.0\n",
    "b = 1.0"
   ]
  },
  {
   "cell_type": "code",
   "execution_count": 8,
   "metadata": {
    "colab": {
     "base_uri": "https://localhost:8080/",
     "height": 34
    },
    "executionInfo": {
     "elapsed": 2664,
     "status": "ok",
     "timestamp": 1601708482593,
     "user": {
      "displayName": "정지범",
      "photoUrl": "",
      "userId": "07020050643692955953"
     },
     "user_tz": -540
    },
    "id": "aLNarik7YSYl",
    "outputId": "3d2dc49a-7633-4b1b-c1b6-a7a8af1564b3"
   },
   "outputs": [
    {
     "name": "stdout",
     "output_type": "stream",
     "text": [
      "1.0616962065186886\n"
     ]
    }
   ],
   "source": [
    "#훈련 데이터의 첫 번쨰 셈플 데이터 얻기\n",
    "#y_hat은 예측치 / 예측치 = 데이터 * 가중치 + 절편 = 0.0616962065186885 * 1.0 + 1.0\n",
    "y_hat = x[0] * w + b \n",
    "print(y_hat)"
   ]
  },
  {
   "cell_type": "code",
   "execution_count": 9,
   "metadata": {
    "colab": {
     "base_uri": "https://localhost:8080/",
     "height": 34
    },
    "executionInfo": {
     "elapsed": 2635,
     "status": "ok",
     "timestamp": 1601708482593,
     "user": {
      "displayName": "정지범",
      "photoUrl": "",
      "userId": "07020050643692955953"
     },
     "user_tz": -540
    },
    "id": "ZdY_m-CqYY_u",
    "outputId": "8b346b4d-a7d1-4a6e-b732-1a17510a659c"
   },
   "outputs": [
    {
     "name": "stdout",
     "output_type": "stream",
     "text": [
      "151.0\n"
     ]
    }
   ],
   "source": [
    "#타깃과 예측데이터 비교하기\n",
    "print(y[0]) #타겟의 0번째 값은 151."
   ]
  },
  {
   "cell_type": "code",
   "execution_count": 10,
   "metadata": {
    "colab": {
     "base_uri": "https://localhost:8080/",
     "height": 34
    },
    "executionInfo": {
     "elapsed": 2606,
     "status": "ok",
     "timestamp": 1601708482593,
     "user": {
      "displayName": "정지범",
      "photoUrl": "",
      "userId": "07020050643692955953"
     },
     "user_tz": -540
    },
    "id": "X9fpq-ozYbr1",
    "outputId": "6ad64491-32b5-4672-bfa5-adea90553f60"
   },
   "outputs": [
    {
     "name": "stdout",
     "output_type": "stream",
     "text": [
      "1.0678658271705574\n"
     ]
    }
   ],
   "source": [
    "# w값 조절해 예측값 바꾸기\n",
    "w_inc = w + 0.1 # w_inc는 가중치 변경을 위해 사용\n",
    "y_hat_inc = x[0] * w_inc + b # 0.0616962065186885 * 1.1 + 1.0\n",
    "print(y_hat_inc)"
   ]
  },
  {
   "cell_type": "code",
   "execution_count": 11,
   "metadata": {
    "colab": {
     "base_uri": "https://localhost:8080/",
     "height": 34
    },
    "executionInfo": {
     "elapsed": 2578,
     "status": "ok",
     "timestamp": 1601708482594,
     "user": {
      "displayName": "정지범",
      "photoUrl": "",
      "userId": "07020050643692955953"
     },
     "user_tz": -540
    },
    "id": "2yG1ibWUYjzt",
    "outputId": "2179e3dc-3f99-4461-fae5-00c2ac4f2b3f"
   },
   "outputs": [
    {
     "name": "stdout",
     "output_type": "stream",
     "text": [
      "0.061696206518688734\n"
     ]
    }
   ],
   "source": [
    "# w 값 조정후 예측값 증가 정도 확인하기\n",
    "w_rate = (y_hat_inc - y_hat) / (w_inc - w) # w_rate = (예측치증가값 - 예측치) / (가중치 증가값 - 가중치)\n",
    "print(w_rate)"
   ]
  },
  {
   "cell_type": "code",
   "execution_count": 12,
   "metadata": {
    "colab": {
     "base_uri": "https://localhost:8080/",
     "height": 51
    },
    "executionInfo": {
     "elapsed": 2549,
     "status": "ok",
     "timestamp": 1601708482594,
     "user": {
      "displayName": "정지범",
      "photoUrl": "",
      "userId": "07020050643692955953"
     },
     "user_tz": -540
    },
    "id": "jNX0fpydYu-H",
    "outputId": "3fd5a861-9a3d-4ae3-a1c7-cb3a82764d45"
   },
   "outputs": [
    {
     "name": "stdout",
     "output_type": "stream",
     "text": [
      "1.1616962065186887\n",
      "1.0\n"
     ]
    }
   ],
   "source": [
    "#변화율로 절편 업데이트 하기\n",
    "b_inc = b + 0.1  # b_inc 는 절편 업데이트값\n",
    "y_hat_inc = x[0] * w + b_inc\n",
    "print(y_hat_inc)\n",
    "\n",
    "b_rate = (y_hat_inc - y_hat) / (b_inc - b)\n",
    "print(b_rate)   # b_rate 는 변화율"
   ]
  },
  {
   "cell_type": "code",
   "execution_count": 13,
   "metadata": {
    "colab": {
     "base_uri": "https://localhost:8080/",
     "height": 34
    },
    "executionInfo": {
     "elapsed": 2520,
     "status": "ok",
     "timestamp": 1601708482594,
     "user": {
      "displayName": "정지범",
      "photoUrl": "",
      "userId": "07020050643692955953"
     },
     "user_tz": -540
    },
    "id": "p4BcpopmY4OO",
    "outputId": "13fa6d14-8cd0-427f-d73b-1907b2a1f173"
   },
   "outputs": [
    {
     "name": "stdout",
     "output_type": "stream",
     "text": [
      "10.250624555904514 150.9383037934813\n"
     ]
    }
   ],
   "source": [
    "#오차와 변화율을 곱하여 가중치 업데이트하기\n",
    "err = y[0] - y_hat # err = 타겟의0번째값 - 예측치(1.06...)\n",
    "w_new = w + w_rate * err # w_new = 가중치(1.0) + 가중치변화율(0.06...) * err\n",
    "b_new = b + 1 * err # b_new = 절편(1.0) + 1 * err\n",
    "print(w_new, b_new)"
   ]
  },
  {
   "cell_type": "code",
   "execution_count": 14,
   "metadata": {
    "colab": {
     "base_uri": "https://localhost:8080/",
     "height": 34
    },
    "executionInfo": {
     "elapsed": 2493,
     "status": "ok",
     "timestamp": 1601708482595,
     "user": {
      "displayName": "정지범",
      "photoUrl": "",
      "userId": "07020050643692955953"
     },
     "user_tz": -540
    },
    "id": "BhV0CNsQZSIi",
    "outputId": "a56e3500-3427-45ec-887f-c0b1b0d4aeeb"
   },
   "outputs": [
    {
     "name": "stdout",
     "output_type": "stream",
     "text": [
      "14.132317616381767 75.52764127612664\n"
     ]
    }
   ],
   "source": [
    "#샘플 변경하여 다시 실행\n",
    "y_hat = x[1] * w_new + b_new\n",
    "err = y[1] - y_hat\n",
    "w_rate = x[1]\n",
    "w_new = w_new + w_rate * err\n",
    "b_new = b_new + 1 * err\n",
    "print(w_new, b_new)\n",
    "\n",
    "#가중치는 4만큼 증가하고 절편은 반정도 절감함."
   ]
  },
  {
   "cell_type": "code",
   "execution_count": 15,
   "metadata": {
    "colab": {
     "base_uri": "https://localhost:8080/",
     "height": 34
    },
    "executionInfo": {
     "elapsed": 5180,
     "status": "ok",
     "timestamp": 1601708485311,
     "user": {
      "displayName": "정지범",
      "photoUrl": "",
      "userId": "07020050643692955953"
     },
     "user_tz": -540
    },
    "id": "T5-jZEXyZ1b5",
    "outputId": "8d4ab2e7-f912-4947-c1a5-e05f33df34cc"
   },
   "outputs": [
    {
     "name": "stdout",
     "output_type": "stream",
     "text": [
      "587.8654539985689 99.40935564531424\n"
     ]
    }
   ],
   "source": [
    "#전체 샘플 반복하기\n",
    "for x_i, y_i in zip(x,y):   # x는 전체샘플의 3번째feature / y는 target\n",
    "    y_hat = x_i * w + b     # 예측치 = x[0] * 가중치(1.0) + 절편(1.0)\n",
    "    err = y_i - y_hat       # err = y[0] - 예측치\n",
    "    w_rate = x_i            # 가중치 변화율 = x[0]\n",
    "    w = w + w_rate * err    # 가중치 = 가중치 + 가중치변화율 * err\n",
    "    b = b + 1 * err         # 절편 = 절편 + 1 * err\n",
    "print(w,b)"
   ]
  },
  {
   "cell_type": "code",
   "execution_count": 16,
   "metadata": {
    "colab": {
     "base_uri": "https://localhost:8080/",
     "height": 279
    },
    "executionInfo": {
     "elapsed": 5152,
     "status": "ok",
     "timestamp": 1601708485311,
     "user": {
      "displayName": "정지범",
      "photoUrl": "",
      "userId": "07020050643692955953"
     },
     "user_tz": -540
    },
    "id": "cqkJC8nNaGm1",
    "outputId": "72f30a36-51b6-4736-ea1b-ba157fe0d94a"
   },
   "outputs": [
    {
     "data": {
      "image/png": "[encoded data removed]",
      "text/plain": [
       "<Figure size 432x288 with 1 Axes>"
      ]
     },
     "metadata": {
      "needs_background": "light"
     },
     "output_type": "display_data"
    }
   ],
   "source": [
    "plt.scatter(x,y)\n",
    "pt1 = (-0.1, -0.1 * w + b)   # 1번 지점 x좌표는 -0.1 y좌표는 40.622~~\n",
    "pt2 = (0.15, 0.15 * w + b)   # 2번 지점 x좌표는 0.15 y좌표는 187.589~~\n",
    "plt.plot([pt1[0],pt2[0]], [pt1[1],pt2[1]]) # x좌표 먼저 찍음 그리고 y좌표를 찍음\n",
    "plt.xlabel('x')\n",
    "plt.ylabel('y')\n",
    "plt.show()"
   ]
  },
  {
   "cell_type": "code",
   "execution_count": 17,
   "metadata": {
    "colab": {
     "base_uri": "https://localhost:8080/",
     "height": 34
    },
    "executionInfo": {
     "elapsed": 5124,
     "status": "ok",
     "timestamp": 1601708485312,
     "user": {
      "displayName": "정지범",
      "photoUrl": "",
      "userId": "07020050643692955953"
     },
     "user_tz": -540
    },
    "id": "l6djFYicaj0y",
    "outputId": "3e114708-725e-4984-a59d-446a050a0435"
   },
   "outputs": [
    {
     "name": "stdout",
     "output_type": "stream",
     "text": [
      "913.5973364345905 123.39414383177204\n"
     ]
    }
   ],
   "source": [
    "#에포크 반복\n",
    "for i in range(1, 100):   # 총 44200번 돌아감\n",
    "    for x_i, y_i in zip(x,y):   # 442번 돌때 나감.\n",
    "        y_hat = x_i * w + b\n",
    "        err = y_i - y_hat\n",
    "        w_rate = x_i\n",
    "        w = w + w_rate * err\n",
    "        b = b + 1 * err\n",
    "print(w,b)"
   ]
  },
  {
   "cell_type": "code",
   "execution_count": 18,
   "metadata": {
    "colab": {
     "base_uri": "https://localhost:8080/",
     "height": 279
    },
    "executionInfo": {
     "elapsed": 6103,
     "status": "ok",
     "timestamp": 1601708486320,
     "user": {
      "displayName": "정지범",
      "photoUrl": "",
      "userId": "07020050643692955953"
     },
     "user_tz": -540
    },
    "id": "lOqGMPmbaznU",
    "outputId": "0267e0be-e5e1-47cd-8f44-2ccd95ff5e95"
   },
   "outputs": [
    {
     "data": {
      "image/png": "[encoded data removed]",
      "text/plain": [
       "<Figure size 432x288 with 1 Axes>"
      ]
     },
     "metadata": {
      "needs_background": "light"
     },
     "output_type": "display_data"
    }
   ],
   "source": [
    "plt.scatter(x,y)\n",
    "pt1 = (-0.1, -0.1 * w + b)\n",
    "pt2 = (0.15, 0.15 * w + b)\n",
    "plt.plot([pt1[0],pt2[0]], [pt1[1],pt2[1]])\n",
    "plt.xlabel('x')\n",
    "plt.ylabel('y')\n",
    "plt.show()"
   ]
  },
  {
   "cell_type": "code",
   "execution_count": 19,
   "metadata": {
    "colab": {
     "base_uri": "https://localhost:8080/",
     "height": 34
    },
    "executionInfo": {
     "elapsed": 6075,
     "status": "ok",
     "timestamp": 1601708486320,
     "user": {
      "displayName": "정지범",
      "photoUrl": "",
      "userId": "07020050643692955953"
     },
     "user_tz": -540
    },
    "id": "wMW118GEbEnu",
    "outputId": "e47a89c9-f839-45a2-8ffe-dfaff228a976"
   },
   "outputs": [
    {
     "name": "stdout",
     "output_type": "stream",
     "text": [
      "287.8416643899983\n"
     ]
    }
   ],
   "source": [
    "#모델로 예측하기\n",
    "x_new = 0.18\n",
    "y_pred = x_new * w + b    # y_pred = 0.18 * 913.597... + 123.3941...\n",
    "print(y_pred)"
   ]
  },
  {
   "cell_type": "code",
   "execution_count": 20,
   "metadata": {
    "colab": {
     "base_uri": "https://localhost:8080/",
     "height": 279
    },
    "executionInfo": {
     "elapsed": 6048,
     "status": "ok",
     "timestamp": 1601708486321,
     "user": {
      "displayName": "정지범",
      "photoUrl": "",
      "userId": "07020050643692955953"
     },
     "user_tz": -540
    },
    "id": "72GrBwnNbRMD",
    "outputId": "d8baecc0-5af9-46c4-9260-9758bba4015b"
   },
   "outputs": [
    {
     "data": {
      "image/png": "[encoded data removed]",
      "text/plain": [
       "<Figure size 432x288 with 1 Axes>"
      ]
     },
     "metadata": {
      "needs_background": "light"
     },
     "output_type": "display_data"
    }
   ],
   "source": [
    "#산점도 위에 데이터 나타내기\n",
    "plt.scatter(x,y)          #x[0],y[0] .........x[442],y[442] 찍어줌\n",
    "plt.scatter(x_new, y_pred)     #x는 0.18 y는 287.84...\n",
    "plt.xlabel('x')\n",
    "plt.ylabel('y')\n",
    "plt.show()"
   ]
  },
  {
   "cell_type": "markdown",
   "metadata": {
    "id": "HB9C2sc9bhGz"
   },
   "source": [
    "3-4장 선형 회귀를 위한 뉴런 만들기"
   ]
  },
  {
   "cell_type": "code",
   "execution_count": 21,
   "metadata": {
    "executionInfo": {
     "elapsed": 6048,
     "status": "ok",
     "timestamp": 1601708486322,
     "user": {
      "displayName": "정지범",
      "photoUrl": "",
      "userId": "07020050643692955953"
     },
     "user_tz": -540
    },
    "id": "d5X1zxKYbbGO"
   },
   "outputs": [],
   "source": [
    "#클래스 만들기\n",
    "class Neuron:\n",
    "  \n",
    "    def __init__(self):   #생성자\n",
    "        self.w = 1.0      # 가중치 초기화\n",
    "        self.b = 1.0      # 절편 초기화\n",
    "    \n",
    "    def forpass(self, x):    # 정방향 계산 y = ax +b\n",
    "        y_hat = x * self.w + self.b    # 예측치 = 데이터 * 가중치 + 절편\n",
    "        return y_hat\n",
    "  \n",
    "    def backprop(self, x, err):   # 변화율 구하는 Method\n",
    "        w_grad = x * err          # 가중치 변화율 = x * err\n",
    "        b_grad = 1 * err          # 절편 변화율 = 1 * err\n",
    "        return w_grad, b_grad\n",
    "    \n",
    "    def fit(self, x, y, epochs=100):     # epochs만큼 반복 훈련 하기 위한 Method\n",
    "        for i in range(epochs):          # epochs만큼 반복\n",
    "            for x_i, y_i in zip(x,y):    # x,y만큼 반복(442번)\n",
    "                y_hat = self.forpass(x_i)\n",
    "                err = -(y_i - y_hat)\n",
    "                w_grad, b_grad = self.backprop(x_i, err)\n",
    "                self.w -= w_grad     # 가중치 업데이트\n",
    "                self.b -= b_grad     # 절편 업데이트\n",
    "                \n"
   ]
  },
  {
   "cell_type": "code",
   "execution_count": 22,
   "metadata": {
    "executionInfo": {
     "elapsed": 6047,
     "status": "ok",
     "timestamp": 1601708486322,
     "user": {
      "displayName": "정지범",
      "photoUrl": "",
      "userId": "07020050643692955953"
     },
     "user_tz": -540
    },
    "id": "HPsoh9t0cn7f"
   },
   "outputs": [],
   "source": [
    "neuron = Neuron()   #오브젝트 nueron = Neuron()클래스\n",
    "neuron.fit(x,y)   #Neuron()클래스 안에 fit메소드를 호출 매개변수는 x,y값"
   ]
  },
  {
   "cell_type": "code",
   "execution_count": 23,
   "metadata": {
    "colab": {
     "base_uri": "https://localhost:8080/",
     "height": 279
    },
    "executionInfo": {
     "elapsed": 6019,
     "status": "ok",
     "timestamp": 1601708486323,
     "user": {
      "displayName": "정지범",
      "photoUrl": "",
      "userId": "07020050643692955953"
     },
     "user_tz": -540
    },
    "id": "TFprTA0ZcrDs",
    "outputId": "977d1dc0-5807-48b0-f541-e7cc9f5fd0f2"
   },
   "outputs": [
    {
     "data": {
      "image/png": "[encoded data removed]",
      "text/plain": [
       "<Figure size 432x288 with 1 Axes>"
      ]
     },
     "metadata": {
      "needs_background": "light"
     },
     "output_type": "display_data"
    }
   ],
   "source": [
    "plt.scatter(x,y)\n",
    "pt1 = (-0.1, -0.1 * neuron.w + neuron.b)\n",
    "pt2 = (0.15, 0.15 * neuron.w + neuron.b)\n",
    "plt.plot([pt1[0],pt2[0]], [pt1[1],pt2[1]])\n",
    "plt.xlabel('x')\n",
    "plt.ylabel('y')\n",
    "plt.show()"
   ]
  },
  {
   "cell_type": "markdown",
   "metadata": {
    "id": "JQT5LqLvdI1j"
   },
   "source": [
    "4장 분류하는 뉴런 만들기"
   ]
  },
  {
   "cell_type": "code",
   "execution_count": 24,
   "metadata": {
    "executionInfo": {
     "elapsed": 6018,
     "status": "ok",
     "timestamp": 1601708486323,
     "user": {
      "displayName": "정지범",
      "photoUrl": "",
      "userId": "07020050643692955953"
     },
     "user_tz": -540
    },
    "id": "itZwPgmPc8Fl"
   },
   "outputs": [],
   "source": [
    "from sklearn.datasets import load_breast_cancer     #사이킷런에서 유방암데이터 호출\n",
    "cancer = load_breast_cancer()      #cancer 변수에 유방암데이터 선언"
   ]
  },
  {
   "cell_type": "code",
   "execution_count": 25,
   "metadata": {
    "colab": {
     "base_uri": "https://localhost:8080/",
     "height": 34
    },
    "executionInfo": {
     "elapsed": 5991,
     "status": "ok",
     "timestamp": 1601708486324,
     "user": {
      "displayName": "정지범",
      "photoUrl": "",
      "userId": "07020050643692955953"
     },
     "user_tz": -540
    },
    "id": "N9a-pLt6db2h",
    "outputId": "5fa42d2a-6627-43d3-8d22-d52b78eea5f0"
   },
   "outputs": [
    {
     "name": "stdout",
     "output_type": "stream",
     "text": [
      "(569, 30) (569,)\n"
     ]
    }
   ],
   "source": [
    "#입력 데이터 확인\n",
    "print(cancer.data.shape, cancer.target.shape)    #cancer의 데이터는 569개의 샘플, 30개의 특성 / target은 569개의 샘플"
   ]
  },
  {
   "cell_type": "code",
   "execution_count": 26,
   "metadata": {
    "colab": {
     "base_uri": "https://localhost:8080/",
     "height": 272
    },
    "executionInfo": {
     "elapsed": 5962,
     "status": "ok",
     "timestamp": 1601708486324,
     "user": {
      "displayName": "정지범",
      "photoUrl": "",
      "userId": "07020050643692955953"
     },
     "user_tz": -540
    },
    "id": "enWXhVvadpjN",
    "outputId": "a6bf0744-ada0-4880-b462-712c8191856c"
   },
   "outputs": [
    {
     "data": {
      "text/plain": [
       "array([[1.799e+01, 1.038e+01, 1.228e+02, 1.001e+03, 1.184e-01, 2.776e-01,\n",
       "        3.001e-01, 1.471e-01, 2.419e-01, 7.871e-02, 1.095e+00, 9.053e-01,\n",
       "        8.589e+00, 1.534e+02, 6.399e-03, 4.904e-02, 5.373e-02, 1.587e-02,\n",
       "        3.003e-02, 6.193e-03, 2.538e+01, 1.733e+01, 1.846e+02, 2.019e+03,\n",
       "        1.622e-01, 6.656e-01, 7.119e-01, 2.654e-01, 4.601e-01, 1.189e-01],\n",
       "       [2.057e+01, 1.777e+01, 1.329e+02, 1.326e+03, 8.474e-02, 7.864e-02,\n",
       "        8.690e-02, 7.017e-02, 1.812e-01, 5.667e-02, 5.435e-01, 7.339e-01,\n",
       "        3.398e+00, 7.408e+01, 5.225e-03, 1.308e-02, 1.860e-02, 1.340e-02,\n",
       "        1.389e-02, 3.532e-03, 2.499e+01, 2.341e+01, 1.588e+02, 1.956e+03,\n",
       "        1.238e-01, 1.866e-01, 2.416e-01, 1.860e-01, 2.750e-01, 8.902e-02],\n",
       "       [1.969e+01, 2.125e+01, 1.300e+02, 1.203e+03, 1.096e-01, 1.599e-01,\n",
       "        1.974e-01, 1.279e-01, 2.069e-01, 5.999e-02, 7.456e-01, 7.869e-01,\n",
       "        4.585e+00, 9.403e+01, 6.150e-03, 4.006e-02, 3.832e-02, 2.058e-02,\n",
       "        2.250e-02, 4.571e-03, 2.357e+01, 2.553e+01, 1.525e+02, 1.709e+03,\n",
       "        1.444e-01, 4.245e-01, 4.504e-01, 2.430e-01, 3.613e-01, 8.758e-02]])"
      ]
     },
     "execution_count": 26,
     "metadata": {},
     "output_type": "execute_result"
    }
   ],
   "source": [
    "#샘플 출력\n",
    "cancer.data[:3]\n"
   ]
  },
  {
   "cell_type": "code",
   "execution_count": 27,
   "metadata": {
    "colab": {
     "base_uri": "https://localhost:8080/",
     "height": 279
    },
    "executionInfo": {
     "elapsed": 5934,
     "status": "ok",
     "timestamp": 1601708486324,
     "user": {
      "displayName": "정지범",
      "photoUrl": "",
      "userId": "07020050643692955953"
     },
     "user_tz": -540
    },
    "id": "VJghUlkLdu6P",
    "outputId": "49a0dbbd-8144-48ab-8b68-5eb537c84bfd"
   },
   "outputs": [
    {
     "data": {
      "image/png": "[encoded data removed]",
      "text/plain": [
       "<Figure size 432x288 with 1 Axes>"
      ]
     },
     "metadata": {
      "needs_background": "light"
     },
     "output_type": "display_data"
    }
   ],
   "source": [
    "#박스플롯으로 사분위 관찰하기\n",
    "plt.boxplot(cancer.data)\n",
    "plt.xlabel('feature')    # 30개의 특성\n",
    "plt.ylabel('value')      # 값\n",
    "plt.show()"
   ]
  },
  {
   "cell_type": "code",
   "execution_count": 28,
   "metadata": {
    "colab": {
     "base_uri": "https://localhost:8080/",
     "height": 34
    },
    "executionInfo": {
     "elapsed": 5907,
     "status": "ok",
     "timestamp": 1601708486325,
     "user": {
      "displayName": "정지범",
      "photoUrl": "",
      "userId": "07020050643692955953"
     },
     "user_tz": -540
    },
    "id": "DK3WPIKGd8YU",
    "outputId": "2189389f-e4bd-4b68-941f-54ddc7a93039"
   },
   "outputs": [
    {
     "data": {
      "text/plain": [
       "array(['mean area', 'area error', 'worst area'], dtype='<U23')"
      ]
     },
     "execution_count": 28,
     "metadata": {},
     "output_type": "execute_result"
    }
   ],
   "source": [
    "#눈에 띄는 4,14,24번 특성 살펴보기\n",
    "cancer.feature_names[[3,13,23]]"
   ]
  },
  {
   "cell_type": "code",
   "execution_count": 29,
   "metadata": {
    "colab": {
     "base_uri": "https://localhost:8080/",
     "height": 34
    },
    "executionInfo": {
     "elapsed": 5878,
     "status": "ok",
     "timestamp": 1601708486325,
     "user": {
      "displayName": "정지범",
      "photoUrl": "",
      "userId": "07020050643692955953"
     },
     "user_tz": -540
    },
    "id": "RBssaPfCeDzk",
    "outputId": "0cd3bd17-3b3a-4668-fd1b-86e612eaae9f"
   },
   "outputs": [
    {
     "data": {
      "text/plain": [
       "(array([0, 1]), array([212, 357]))"
      ]
     },
     "execution_count": 29,
     "metadata": {},
     "output_type": "execute_result"
    }
   ],
   "source": [
    "#타깃 데이터 확인하기\n",
    "#넘파이를 import안해주면 코드 에러뜸.\n",
    "import numpy as np\n",
    "np.unique(cancer.target, return_counts=True)\n",
    "# 유니크 함수를 사용하여 target의 유일한값인 0,1로 출력 / return_counts 는 등장하는 횟수를 작성\n",
    "# 212개의 음성클래스(정상종양), 357개의 양성클래스(악성종양)"
   ]
  },
  {
   "cell_type": "code",
   "execution_count": 30,
   "metadata": {
    "executionInfo": {
     "elapsed": 5877,
     "status": "ok",
     "timestamp": 1601708486325,
     "user": {
      "displayName": "정지범",
      "photoUrl": "",
      "userId": "07020050643692955953"
     },
     "user_tz": -540
    },
    "id": "-L68hasJeKta"
   },
   "outputs": [
    {
     "name": "stdout",
     "output_type": "stream",
     "text": [
      "(569, 30) (569,)\n"
     ]
    }
   ],
   "source": [
    "#데이터 세트 저장하기\n",
    "x = cancer.data\n",
    "y = cancer.target\n",
    "print(x.shape,y.shape)"
   ]
  },
  {
   "cell_type": "code",
   "execution_count": 31,
   "metadata": {
    "executionInfo": {
     "elapsed": 5877,
     "status": "ok",
     "timestamp": 1601708486326,
     "user": {
      "displayName": "정지범",
      "photoUrl": "",
      "userId": "07020050643692955953"
     },
     "user_tz": -540
    },
    "id": "qc5knkB_edht"
   },
   "outputs": [],
   "source": [
    "#훈련 데이터 세트 나누기\n",
    "from sklearn.model_selection import train_test_split\n",
    "\n",
    "x_train, x_test, y_train, y_test = train_test_split(x, y, stratify=y, test_size=0.2, random_state=42)\n",
    "# stratify=y 는 훈련데이터를 나눌때 클래스 비율을 동일하게 만들때 사용\n",
    "# test_size=0.2 는훈련데이터 세트의 비율을 조절하고 싶을때 사용\n",
    "# random_state=42 는 무작위로 데이터세트를 섞은 다음 나누기위해 사용"
   ]
  },
  {
   "cell_type": "code",
   "execution_count": 32,
   "metadata": {
    "colab": {
     "base_uri": "https://localhost:8080/",
     "height": 34
    },
    "executionInfo": {
     "elapsed": 5849,
     "status": "ok",
     "timestamp": 1601708486326,
     "user": {
      "displayName": "정지범",
      "photoUrl": "",
      "userId": "07020050643692955953"
     },
     "user_tz": -540
    },
    "id": "anHiBmtIfBFs",
    "outputId": "09068306-b981-4dac-cd53-69f5ef16d189"
   },
   "outputs": [
    {
     "name": "stdout",
     "output_type": "stream",
     "text": [
      "(455, 30) (114, 30)\n",
      "(455,) (114,)\n"
     ]
    }
   ],
   "source": [
    "#결과보기\n",
    "print(x_train.shape, x_test.shape)\n",
    "print(y_train.shape, y_test.shape)"
   ]
  },
  {
   "cell_type": "code",
   "execution_count": 33,
   "metadata": {
    "colab": {
     "base_uri": "https://localhost:8080/",
     "height": 34
    },
    "executionInfo": {
     "elapsed": 5822,
     "status": "ok",
     "timestamp": 1601708486327,
     "user": {
      "displayName": "정지범",
      "photoUrl": "",
      "userId": "07020050643692955953"
     },
     "user_tz": -540
    },
    "id": "YvjLRYiDfdzL",
    "outputId": "fae2668b-2a65-4a64-c3ba-03075e1b7bc1"
   },
   "outputs": [
    {
     "data": {
      "text/plain": [
       "(array([0, 1]), array([170, 285]))"
      ]
     },
     "execution_count": 33,
     "metadata": {},
     "output_type": "execute_result"
    }
   ],
   "source": [
    "#unique()함수로 훈련 셋 타깃 확인하기\n",
    "np.unique(y_train, return_counts=True) # target의 트레이닝 세트에는 170개의 음성클래스와 285개의 양성클래스\n"
   ]
  },
  {
   "cell_type": "code",
   "execution_count": 34,
   "metadata": {
    "executionInfo": {
     "elapsed": 5821,
     "status": "ok",
     "timestamp": 1601708486327,
     "user": {
      "displayName": "정지범",
      "photoUrl": "",
      "userId": "07020050643692955953"
     },
     "user_tz": -540
    },
    "id": "h4HnChe-fqfK"
   },
   "outputs": [],
   "source": [
    "#로지스틱 회귀 구현하기\n",
    "class LogisticNeuron:\n",
    "    def __init__(self):\n",
    "        self.w = None\n",
    "        self.b = None\n",
    "    \n",
    "    def forpass(self, x):\n",
    "        z = np.sum(x * self.w) + self.b   # 직선 방정식 계산\n",
    "        return z\n",
    "    \n",
    "    def backprop(self, x, err):\n",
    "        w_grad = x * err                  # 가중치에 대한 그레이디언트 계산\n",
    "        b_grad = 1 * err                  # 절편에 대한 그레이디언트 계산\n",
    "        return w_grad, b_grad\n",
    "    \n",
    "    def activation(self, z):\n",
    "        a = 1 / (1 + np.exp(-z))         # 시그모이드 계산 (선형함수를 -제곱한다.)\n",
    "        return a\n",
    "    \n",
    "    def fit(self, x, y, epochs=100):      # x는 x_train, y는 y_train 이포는 100\n",
    "        self.w = np.ones(x.shape[1])      # 가중치를 초기화 (x.shape[1] 과 동일한 크기의 배열을 만들고 값을 모두 1로 초기화)\n",
    "        self.b = 0                        # 절편 초기화\n",
    "        for i in range(epochs):           # epochs 만큼 반복\n",
    "            for x_i, y_i in zip(x,y):     # zip(455만큼반복)\n",
    "                z = self.forpass(x_i)         # 정방향계산 (z는 선형함수)\n",
    "                a = self.activation(z)        # 활성화 함수 작용 (a는 활성화함수 작용하고 나온 선형함수)\n",
    "                err = -(y_i - a)              # 오차 계산\n",
    "                w_grad, b_grad = self.backprop(x_i, err)  #역방향 계산\n",
    "                self.w -= w_grad              # 가중치 업데이트\n",
    "                self.b -= b_grad              # 절편 업데이트\n",
    "    \n",
    "    def predict(self,x):\n",
    "        z = [self.forpass(x_i) for x_i in x] # 선형 함수 적용\n",
    "        a = self.activation(np.array(z))     # 활성화 함수 적용\n",
    "        return a > 0.5                      # 계단 함수 적용"
   ]
  },
  {
   "cell_type": "code",
   "execution_count": 35,
   "metadata": {
    "colab": {
     "base_uri": "https://localhost:8080/",
     "height": 34
    },
    "executionInfo": {
     "elapsed": 5793,
     "status": "ok",
     "timestamp": 1601708486328,
     "user": {
      "displayName": "정지범",
      "photoUrl": "",
      "userId": "07020050643692955953"
     },
     "user_tz": -540
    },
    "id": "FglVh3OehG0s",
    "outputId": "f3cd343a-7ab3-4127-85f5-cc47da618bbf"
   },
   "outputs": [
    {
     "name": "stderr",
     "output_type": "stream",
     "text": [
      "<ipython-input-34-77dd22eb428c>:17: RuntimeWarning: overflow encountered in exp\n",
      "  a = 1 / (1 + np.exp(-z))         # 시그모이드 계산 (선형함수를 -제곱한다.)\n"
     ]
    }
   ],
   "source": [
    "logneuron = LogisticNeuron()\n",
    "logneuron.fit(x_train, y_train)"
   ]
  },
  {
   "cell_type": "code",
   "execution_count": 36,
   "metadata": {
    "colab": {
     "base_uri": "https://localhost:8080/",
     "height": 51
    },
    "executionInfo": {
     "elapsed": 5766,
     "status": "ok",
     "timestamp": 1601708486329,
     "user": {
      "displayName": "정지범",
      "photoUrl": "",
      "userId": "07020050643692955953"
     },
     "user_tz": -540
    },
    "id": "IByqNZ2hhVYA",
    "outputId": "9b91c735-9ada-4ec8-b5e4-4842ac5def8f"
   },
   "outputs": [
    {
     "name": "stderr",
     "output_type": "stream",
     "text": [
      "<ipython-input-34-77dd22eb428c>:17: RuntimeWarning: overflow encountered in exp\n",
      "  a = 1 / (1 + np.exp(-z))         # 시그모이드 계산 (선형함수를 -제곱한다.)\n"
     ]
    },
    {
     "data": {
      "text/plain": [
       "0.8245614035087719"
      ]
     },
     "execution_count": 36,
     "metadata": {},
     "output_type": "execute_result"
    }
   ],
   "source": [
    "np.mean(logneuron.predict(x_test) == y_test)"
   ]
  },
  {
   "cell_type": "markdown",
   "metadata": {
    "id": "Wz_kJBubo0ov"
   },
   "source": [
    "4-6 로지스틱 회귀 뉴런으로 단일층 신경망 만들기"
   ]
  },
  {
   "cell_type": "code",
   "execution_count": 37,
   "metadata": {
    "executionInfo": {
     "elapsed": 5764,
     "status": "ok",
     "timestamp": 1601708486329,
     "user": {
      "displayName": "정지범",
      "photoUrl": "",
      "userId": "07020050643692955953"
     },
     "user_tz": -540
    },
    "id": "GQBjGnJ9hald"
   },
   "outputs": [],
   "source": [
    "class SingleLayer:\n",
    "    \n",
    "    def __init__(self):\n",
    "        self.w = None\n",
    "        self.b = None\n",
    "        self.losses = []   #손실함수의 결과값을 저장할 리스트\n",
    "        \n",
    "    def forpass(self, x):\n",
    "        z = np.sum(x * self.w) + self.b        # 직선 방정식 계산\n",
    "        return z\n",
    "    \n",
    "    def backprop(self, x, err):\n",
    "        w_grad = x * err                       # 가중치에 대한 그레이디언트 계산\n",
    "        b_grad = 1 * err                       # 절편에 대한 그레이디언트 계산\n",
    "        return w_grad, b_grad\n",
    "    \n",
    "#     def add_bias(self, x):\n",
    "#         return np.c_[np.ones((x.shape[0], 1)), x]\n",
    "    \n",
    "    def activation(self, z):\n",
    "        a = 1 / (1 + np.exp(-z))               # 시그모이드 계산\n",
    "        return a\n",
    "    \n",
    "    def fit(self, x, y, epochs=100):\n",
    "        self.w = np.ones(x.shape[1])      # 가중치 초기화\n",
    "        self.b = 0                        # 절편 초기화\n",
    "        for i in range(epochs):          # epochs 만큼 반복\n",
    "            loss = 0\n",
    "            indexes = np.random.permutation(np.arange(len(x)))     #인덱스를 섞습니다. 샘플데이터를 무작위로 나열하기위해\n",
    "            for i in indexes:            # 모든 샘플에 대해 반복\n",
    "                z = self.forpass(x[i])   # 정방향 계산\n",
    "                a = self.activation(z)   # 활성화 함수 계산\n",
    "                err = -(y[i] - a)        # 오차 계산\n",
    "                w_grad, b_grad = self.backprop(x[i], err)  # 역방향 계산\n",
    "                self.w -= w_grad         # 가중치 업데이트\n",
    "                self.b -= b_grad         # 절편 업데이트\n",
    "                a = np.clip(a, 1e-10, 1-1e-10)             # 안전한 로그 계산을 위해 클리핑한 후 손실을 누적함.\n",
    "                loss += -(y[i] * np.log(a) + (1-y[i]) * np.log(1-a))  # 에포크마다 평균 손실 저장\n",
    "            self.losses.append(loss/len(y))\n",
    "            \n",
    "    def predict(self,x):\n",
    "        z = [self.forpass(x_i) for x_i in x]   # 정방향 계산\n",
    "        #a = self.activation(np.array(z))\n",
    "        return np.array(z) > 0                 # 계단 함수 적용\n",
    "    \n",
    "    def score(self, x, y):\n",
    "        return np.mean(self.predict(x) == y)"
   ]
  },
  {
   "cell_type": "code",
   "execution_count": 38,
   "metadata": {
    "colab": {
     "base_uri": "https://localhost:8080/",
     "height": 51
    },
    "executionInfo": {
     "elapsed": 7946,
     "status": "ok",
     "timestamp": 1601708488539,
     "user": {
      "displayName": "정지범",
      "photoUrl": "",
      "userId": "07020050643692955953"
     },
     "user_tz": -540
    },
    "id": "po4JHmd5qzsi",
    "outputId": "b18aea2a-7273-493e-f234-d092afb330a4"
   },
   "outputs": [
    {
     "name": "stderr",
     "output_type": "stream",
     "text": [
      "<ipython-input-37-f10e73958066>:21: RuntimeWarning: overflow encountered in exp\n",
      "  a = 1 / (1 + np.exp(-z))               # 시그모이드 계산\n"
     ]
    },
    {
     "data": {
      "text/plain": [
       "0.9210526315789473"
      ]
     },
     "execution_count": 38,
     "metadata": {},
     "output_type": "execute_result"
    }
   ],
   "source": [
    "layer = SingleLayer()\n",
    "layer.fit(x_train, y_train)\n",
    "layer.score(x_test,y_test)"
   ]
  },
  {
   "cell_type": "code",
   "execution_count": 39,
   "metadata": {
    "colab": {
     "base_uri": "https://localhost:8080/",
     "height": 281
    },
    "executionInfo": {
     "elapsed": 7918,
     "status": "ok",
     "timestamp": 1601708488540,
     "user": {
      "displayName": "정지범",
      "photoUrl": "",
      "userId": "07020050643692955953"
     },
     "user_tz": -540
    },
    "id": "Gsj50IcEq-Bb",
    "outputId": "10acd5a6-27a9-4dd1-ba0e-353feb88161d"
   },
   "outputs": [
    {
     "data": {
      "image/png": "[encoded data removed]",
      "text/plain": [
       "<Figure size 432x288 with 1 Axes>"
      ]
     },
     "metadata": {
      "needs_background": "light"
     },
     "output_type": "display_data"
    }
   ],
   "source": [
    "plt.plot(layer.losses)\n",
    "plt.xlabel('epochs')\n",
    "plt.ylabel('loss')\n",
    "plt.show()"
   ]
  },
  {
   "cell_type": "markdown",
   "metadata": {
    "id": "rOR8DUB6ruc_"
   },
   "source": [
    "04-7 사이킷런으로 로지스틱 회귀 수행"
   ]
  },
  {
   "cell_type": "code",
   "execution_count": 40,
   "metadata": {
    "executionInfo": {
     "elapsed": 7918,
     "status": "ok",
     "timestamp": 1601708488541,
     "user": {
      "displayName": "정지범",
      "photoUrl": "",
      "userId": "07020050643692955953"
     },
     "user_tz": -540
    },
    "id": "a3DU8yq3rfiP"
   },
   "outputs": [],
   "source": [
    "#로지스틱 손실함수 지정하기\n",
    "#라이브러리 호출 안해주면 에러남\n",
    "from sklearn.linear_model import SGDClassifier\n",
    "sgd = SGDClassifier(loss = 'log', max_iter = 100, tol = 1e-3, random_state = 42)\n",
    "# max_iter를 통해 반복횟수 100 지정\n",
    "# random_state를 통해 난수 초깃값을 42로 설정\n",
    "# 로지스틱 손실 함수의 값이 tol에 지정한 값만큼 감소되지 않으면 반복을 중단하도록 설정 \n",
    "# tol의 값을 설정하지않으면 max_iter의 값을 늘리라는 경고 발생"
   ]
  },
  {
   "cell_type": "code",
   "execution_count": 41,
   "metadata": {
    "colab": {
     "base_uri": "https://localhost:8080/",
     "height": 34
    },
    "executionInfo": {
     "elapsed": 7890,
     "status": "ok",
     "timestamp": 1601708488541,
     "user": {
      "displayName": "정지범",
      "photoUrl": "",
      "userId": "07020050643692955953"
     },
     "user_tz": -540
    },
    "id": "604IcyAqr_VS",
    "outputId": "b547703e-3e3c-4aa9-9910-8e4f0492a5c1"
   },
   "outputs": [
    {
     "data": {
      "text/plain": [
       "0.8333333333333334"
      ]
     },
     "execution_count": 41,
     "metadata": {},
     "output_type": "execute_result"
    }
   ],
   "source": [
    "sgd.fit(x_train , y_train)\n",
    "sgd.score(x_test, y_test)"
   ]
  },
  {
   "cell_type": "code",
   "execution_count": 42,
   "metadata": {
    "colab": {
     "base_uri": "https://localhost:8080/",
     "height": 34
    },
    "executionInfo": {
     "elapsed": 7862,
     "status": "ok",
     "timestamp": 1601708488542,
     "user": {
      "displayName": "정지범",
      "photoUrl": "",
      "userId": "07020050643692955953"
     },
     "user_tz": -540
    },
    "id": "HVGT8yGivuXk",
    "outputId": "c44ffcce-baef-4d89-f229-3dc601e34471"
   },
   "outputs": [
    {
     "data": {
      "text/plain": [
       "array([0, 1, 0, 0, 0, 0, 1, 0, 0, 0])"
      ]
     },
     "execution_count": 42,
     "metadata": {},
     "output_type": "execute_result"
    }
   ],
   "source": [
    "sgd.predict(x_test[0:10])"
   ]
  },
  {
   "cell_type": "markdown",
   "metadata": {
    "id": "scv1BNnjzkKt"
   },
   "source": [
    "5-1 검증세트를 나누고 전처리 과정 배우기"
   ]
  },
  {
   "cell_type": "code",
   "execution_count": 43,
   "metadata": {
    "executionInfo": {
     "elapsed": 7862,
     "status": "ok",
     "timestamp": 1601708488543,
     "user": {
      "displayName": "정지범",
      "photoUrl": "",
      "userId": "07020050643692955953"
     },
     "user_tz": -540
    },
    "id": "4Y_ysHTVvyuk"
   },
   "outputs": [],
   "source": [
    "from sklearn.datasets import load_breast_cancer    # 유방암 데이터 호출\n",
    "from sklearn.model_selection import train_test_split  # 데이터를 분리하기 위한 split함수 호출\n",
    "cancer = load_breast_cancer()    # 변수 cancer에 유방암 데이터 선언\n",
    "x = cancer.data\n",
    "y = cancer.target\n",
    "x_train_all, x_test, y_train_all, y_test = train_test_split(x, y, stratify = y, \n",
    "                                                            test_size = 0.2, random_state = 42)\n",
    "# stratify=y 는 훈련데이터를 나눌때 클래스 비율을 동일하게 만들때 사용\n",
    "# test_size=0.2 는훈련데이터 세트의 비율을 조절하고 싶을때 사용\n",
    "# random_state=42 는 무작위로 데이터세트를 섞은 다음 나누기위해 사용"
   ]
  },
  {
   "cell_type": "code",
   "execution_count": 44,
   "metadata": {
    "colab": {
     "base_uri": "https://localhost:8080/",
     "height": 34
    },
    "executionInfo": {
     "elapsed": 7834,
     "status": "ok",
     "timestamp": 1601708488543,
     "user": {
      "displayName": "정지범",
      "photoUrl": "",
      "userId": "07020050643692955953"
     },
     "user_tz": -540
    },
    "id": "KoC8YYgKSctN",
    "outputId": "a6962402-0bf4-4aaf-b140-e23380355464"
   },
   "outputs": [
    {
     "data": {
      "text/plain": [
       "0.8333333333333334"
      ]
     },
     "execution_count": 44,
     "metadata": {},
     "output_type": "execute_result"
    }
   ],
   "source": [
    "from sklearn.linear_model import SGDClassifier\n",
    "sgd = SGDClassifier(loss = 'log', random_state = 42)\n",
    "sgd.fit(x_train_all, y_train_all)\n",
    "sgd.score(x_test, y_test)"
   ]
  },
  {
   "cell_type": "code",
   "execution_count": 45,
   "metadata": {
    "colab": {
     "base_uri": "https://localhost:8080/",
     "height": 34
    },
    "executionInfo": {
     "elapsed": 7807,
     "status": "ok",
     "timestamp": 1601708488544,
     "user": {
      "displayName": "정지범",
      "photoUrl": "",
      "userId": "07020050643692955953"
     },
     "user_tz": -540
    },
    "id": "X3hnfaGLSrhd",
    "outputId": "f656ccd0-5075-4d6a-dc17-a36521009e62"
   },
   "outputs": [
    {
     "data": {
      "text/plain": [
       "0.9385964912280702"
      ]
     },
     "execution_count": 45,
     "metadata": {},
     "output_type": "execute_result"
    }
   ],
   "source": [
    "from sklearn.linear_model import SGDClassifier\n",
    "sgd = SGDClassifier(loss = 'hinge', random_state= 42)\n",
    "sgd.fit(x_train, y_train)\n",
    "sgd.score(x_test, y_test)"
   ]
  },
  {
   "cell_type": "code",
   "execution_count": 46,
   "metadata": {
    "colab": {
     "base_uri": "https://localhost:8080/",
     "height": 34
    },
    "executionInfo": {
     "elapsed": 7780,
     "status": "ok",
     "timestamp": 1601708488545,
     "user": {
      "displayName": "정지범",
      "photoUrl": "",
      "userId": "07020050643692955953"
     },
     "user_tz": -540
    },
    "id": "6-ragjCUS9aY",
    "outputId": "9190ca5f-519c-4d0a-ec1f-8e28613b336d"
   },
   "outputs": [
    {
     "name": "stdout",
     "output_type": "stream",
     "text": [
      "364 91\n"
     ]
    }
   ],
   "source": [
    "# 검증세트 분할하기\n",
    "#x_train = 364 / x_val = 91\n",
    "x_train, x_val, y_train, y_val = train_test_split(x_train_all, y_train_all,\n",
    "                                                  stratify = y_train_all, test_size = 0.2, random_state=42)\n",
    "# 훈련데이터세트를 검증데이터와 8:2로 분리\n",
    "print(len(x_train), len(x_val))"
   ]
  },
  {
   "cell_type": "code",
   "execution_count": 47,
   "metadata": {
    "colab": {
     "base_uri": "https://localhost:8080/",
     "height": 34
    },
    "executionInfo": {
     "elapsed": 7754,
     "status": "ok",
     "timestamp": 1601708488546,
     "user": {
      "displayName": "정지범",
      "photoUrl": "",
      "userId": "07020050643692955953"
     },
     "user_tz": -540
    },
    "id": "i4uEuoVPTkpE",
    "outputId": "aac7685c-7e84-408b-c786-fc7f00c9609a"
   },
   "outputs": [
    {
     "data": {
      "text/plain": [
       "0.6923076923076923"
      ]
     },
     "execution_count": 47,
     "metadata": {},
     "output_type": "execute_result"
    }
   ],
   "source": [
    "#검증세트 사용해 모델 평가하기\n",
    "sgd = SGDClassifier(loss='log', random_state = 42)\n",
    "sgd.fit(x_train, y_train)\n",
    "sgd.score(x_val, y_val)"
   ]
  },
  {
   "cell_type": "code",
   "execution_count": 48,
   "metadata": {
    "colab": {
     "base_uri": "https://localhost:8080/",
     "height": 296
    },
    "executionInfo": {
     "elapsed": 7727,
     "status": "ok",
     "timestamp": 1601708488547,
     "user": {
      "displayName": "정지범",
      "photoUrl": "",
      "userId": "07020050643692955953"
     },
     "user_tz": -540
    },
    "id": "K1-IY3NYT3oe",
    "outputId": "935bb991-bc1f-46a7-c35b-c2b69e5c222c"
   },
   "outputs": [
    {
     "name": "stdout",
     "output_type": "stream",
     "text": [
      "['mean perimeter' 'mean area']\n"
     ]
    },
    {
     "data": {
      "image/png": "[encoded data removed]",
      "text/plain": [
       "<Figure size 432x288 with 1 Axes>"
      ]
     },
     "metadata": {
      "needs_background": "light"
     },
     "output_type": "display_data"
    }
   ],
   "source": [
    "#훈련 데이터 준비하고 스케일 비교하기\n",
    "print(cancer.feature_names[[2,3]])\n",
    "plt.boxplot(x_train[:,2:4])\n",
    "plt.xlabel('feature')\n",
    "plt.ylabel('value')\n",
    "plt.show()"
   ]
  },
  {
   "cell_type": "code",
   "execution_count": 49,
   "metadata": {
    "executionInfo": {
     "elapsed": 7725,
     "status": "ok",
     "timestamp": 1601708488547,
     "user": {
      "displayName": "정지범",
      "photoUrl": "",
      "userId": "07020050643692955953"
     },
     "user_tz": -540
    },
    "id": "xyEF9LitUGVW"
   },
   "outputs": [],
   "source": [
    "#5-1장 클래스 변경하기\n",
    "class SingleLayer1:\n",
    "    def __init__(self, learning_rate = 0.1):\n",
    "        self.w = None\n",
    "        self.b = None\n",
    "        self.losses = []\n",
    "        self.w_history = []         # 가중치를 기록하기위해 사용\n",
    "        self.lr = learning_rate\n",
    "    \n",
    "    def forpass(self, x):\n",
    "        z = np.sum(x * self.w) + self.b\n",
    "        return z\n",
    "    \n",
    "    def backprop(self, x, err):\n",
    "        w_grad = x * err\n",
    "        b_grad = 1 * err\n",
    "        return w_grad, b_grad\n",
    "    \n",
    "    def add_bias(self, x):\n",
    "        return np.c_[np.ones((x.shape[0], 1)), x]\n",
    "    \n",
    "    def activation(self, z):\n",
    "        a = 1 / (1 + np.exp(-z))\n",
    "        return a\n",
    "    \n",
    "    def fit(self, x, y, epochs=100):\n",
    "        self.w = np.ones(x.shape[1])          # 가중치 초기화\n",
    "        self.b = 0                            # 절편 초기화\n",
    "        self.w_history.append(self.w.copy())  # 가중치를 기록\n",
    "        np.random.seed(42)                    # 무작위로 시드 저장\n",
    "        for i in range(epochs):              # epochs만큼 반복\n",
    "            loss = 0\n",
    "            # 인덱스를 섞습니다.\n",
    "            indexes = np.random.permutation(np.arange(len(x)))\n",
    "            for i in indexes:                # 모든 샘플에 대해 반복\n",
    "                z = self.forpass(x[i])       # 정방향 계산\n",
    "                a = self.activation(z)       # 활성화 함수 적용\n",
    "                err = -(y[i] - a)            # 오차 계산\n",
    "                w_grad, b_grad = self.backprop(x[i], err)  # 역방향 계산\n",
    "                self.w -= self.lr * w_grad    # 가중치 업데이트(학습률 적용)\n",
    "                self.b -= b_grad              # 절편 업데이트\n",
    "                #가중치 기록\n",
    "                self.w_history.append(self.w.copy())\n",
    "                # 안전한 로그 계산을 위해 클리핑 한 후 손실을 누적\n",
    "                a = np.clip(a, 1e-10, 1-1e-10)\n",
    "                loss += -(y[i] * np.log(a) + (1-y[i]) * np.log(1-a))\n",
    "            # 에포크 마다 평균 손실 저장 \n",
    "            self.losses.append(loss/len(y))\n",
    "    \n",
    "    def predict(self,x):\n",
    "        z = [self.forpass(x_i) for x_i in x]\n",
    "        a = self.activation(np.array(z))\n",
    "        return np.array(z) > 0\n",
    "    \n",
    "    def score(self, x, y):\n",
    "        return np.mean(self.predict(x) == y)"
   ]
  },
  {
   "cell_type": "code",
   "execution_count": 50,
   "metadata": {
    "colab": {
     "base_uri": "https://localhost:8080/",
     "height": 51
    },
    "executionInfo": {
     "elapsed": 11192,
     "status": "ok",
     "timestamp": 1601708492042,
     "user": {
      "displayName": "정지범",
      "photoUrl": "",
      "userId": "07020050643692955953"
     },
     "user_tz": -540
    },
    "id": "_71TAgROVJgR",
    "outputId": "9d6e94cd-211b-468c-82d6-59768f10487e"
   },
   "outputs": [
    {
     "name": "stderr",
     "output_type": "stream",
     "text": [
      "<ipython-input-49-787e07ca8817>:23: RuntimeWarning: overflow encountered in exp\n",
      "  a = 1 / (1 + np.exp(-z))\n"
     ]
    },
    {
     "data": {
      "text/plain": [
       "0.9120879120879121"
      ]
     },
     "execution_count": 50,
     "metadata": {},
     "output_type": "execute_result"
    }
   ],
   "source": [
    "#모델 훈련하고 평가하기\n",
    "layer1 = SingleLayer1()\n",
    "layer1.fit(x_train, y_train)\n",
    "layer1.score(x_val, y_val)"
   ]
  },
  {
   "cell_type": "code",
   "execution_count": 51,
   "metadata": {
    "colab": {
     "base_uri": "https://localhost:8080/",
     "height": 279
    },
    "executionInfo": {
     "elapsed": 11166,
     "status": "ok",
     "timestamp": 1601708492043,
     "user": {
      "displayName": "정지범",
      "photoUrl": "",
      "userId": "07020050643692955953"
     },
     "user_tz": -540
    },
    "id": "6bgTVfL3VSaE",
    "outputId": "3fd15191-8353-419a-ac44-0213db00e2d7"
   },
   "outputs": [
    {
     "data": {
      "image/png": "[encoded data removed]",
      "text/plain": [
       "<Figure size 432x288 with 1 Axes>"
      ]
     },
     "metadata": {
      "needs_background": "light"
     },
     "output_type": "display_data"
    }
   ],
   "source": [
    "w2 = []\n",
    "w3 = []\n",
    "for w in layer1.w_history:     # w_history 는 100번의 에포크 동안 변경된 가중치가 기록되어있음\n",
    "    w2.append(w[2])\n",
    "    w3.append(w[3])\n",
    "\n",
    "plt.plot(w2,w3)\n",
    "plt.plot(w2[-1], w3[-1], 'ro')\n",
    "plt.xlabel('w[2]')\n",
    "plt.ylabel('w[3]')\n",
    "plt.show()"
   ]
  },
  {
   "cell_type": "code",
   "execution_count": 52,
   "metadata": {
    "executionInfo": {
     "elapsed": 11165,
     "status": "ok",
     "timestamp": 1601708492044,
     "user": {
      "displayName": "정지범",
      "photoUrl": "",
      "userId": "07020050643692955953"
     },
     "user_tz": -540
    },
    "id": "GBR6m3oNVmyK"
   },
   "outputs": [],
   "source": [
    "#넘파이로 표준화 구현하기\n",
    "train_mean = np.mean(x_train, axis = 0)     # 열을 기준으로 통계치 계산하여 행 백터로 변환(열이 30개이기 때문에 30개나옴)\n",
    "train_std = np.std(x_train, axis = 0)       # 열을 기준으로 표준편차를 계산\n",
    "x_train_scaled = (x_train - train_mean) / train_std\n"
   ]
  },
  {
   "cell_type": "code",
   "execution_count": 53,
   "metadata": {
    "colab": {
     "base_uri": "https://localhost:8080/",
     "height": 279
    },
    "executionInfo": {
     "elapsed": 13289,
     "status": "ok",
     "timestamp": 1601708494196,
     "user": {
      "displayName": "정지범",
      "photoUrl": "",
      "userId": "07020050643692955953"
     },
     "user_tz": -540
    },
    "id": "RrPinPdFV60h",
    "outputId": "d6c96791-899d-4396-cd72-eecc83f36164"
   },
   "outputs": [
    {
     "data": {
      "image/png": "[encoded data removed]",
      "text/plain": [
       "<Figure size 432x288 with 1 Axes>"
      ]
     },
     "metadata": {
      "needs_background": "light"
     },
     "output_type": "display_data"
    }
   ],
   "source": [
    "#모델 훈련하기\n",
    "layer2 = SingleLayer1()\n",
    "layer2.fit(x_train_scaled, y_train)\n",
    "w2 = []\n",
    "w3 = []\n",
    "for w in layer2.w_history:\n",
    "    w2.append(w[2])\n",
    "    w3.append(w[3])\n",
    "\n",
    "plt.plot(w2, w3)\n",
    "plt.plot(w2[-1], w3[-1], 'ro')\n",
    "plt.xlabel('w[2]')\n",
    "plt.ylabel('w[3]')\n",
    "plt.show()"
   ]
  },
  {
   "cell_type": "code",
   "execution_count": 54,
   "metadata": {
    "colab": {
     "base_uri": "https://localhost:8080/",
     "height": 51
    },
    "executionInfo": {
     "elapsed": 13262,
     "status": "ok",
     "timestamp": 1601708494197,
     "user": {
      "displayName": "정지범",
      "photoUrl": "",
      "userId": "07020050643692955953"
     },
     "user_tz": -540
    },
    "id": "h3Wkc5UqWc43",
    "outputId": "8b50da2f-e086-4237-d90d-d95644dfee4c"
   },
   "outputs": [
    {
     "name": "stderr",
     "output_type": "stream",
     "text": [
      "<ipython-input-49-787e07ca8817>:23: RuntimeWarning: overflow encountered in exp\n",
      "  a = 1 / (1 + np.exp(-z))\n"
     ]
    },
    {
     "data": {
      "text/plain": [
       "0.37362637362637363"
      ]
     },
     "execution_count": 54,
     "metadata": {},
     "output_type": "execute_result"
    }
   ],
   "source": [
    "#모델 성능 평가\n",
    "layer2.score(x_val, y_val)"
   ]
  },
  {
   "cell_type": "code",
   "execution_count": 81,
   "metadata": {
    "colab": {
     "base_uri": "https://localhost:8080/",
     "height": 34
    },
    "executionInfo": {
     "elapsed": 13234,
     "status": "ok",
     "timestamp": 1601708494197,
     "user": {
      "displayName": "정지범",
      "photoUrl": "",
      "userId": "07020050643692955953"
     },
     "user_tz": -540
    },
    "id": "sDgySq1LXGoD",
    "outputId": "5b8cdd06-0ac7-446a-9023-0dbf401f96cb"
   },
   "outputs": [
    {
     "data": {
      "text/plain": [
       "0.967032967032967"
      ]
     },
     "execution_count": 81,
     "metadata": {},
     "output_type": "execute_result"
    }
   ],
   "source": [
    "val_mean = np.mean(x_val, axis = 0)     # 검증데이터의 열을 기준으로 통계치 계산하여 행 벡터로 변환\n",
    "val_std = np.std(x_val, axis = 0)\n",
    "x_val_scaled = (x_val - val_mean) / val_std\n",
    "layer2.score(x_val_scaled, y_val)\n"
   ]
  },
  {
   "cell_type": "code",
   "execution_count": 56,
   "metadata": {
    "colab": {
     "base_uri": "https://localhost:8080/",
     "height": 279
    },
    "executionInfo": {
     "elapsed": 13207,
     "status": "ok",
     "timestamp": 1601708494198,
     "user": {
      "displayName": "정지범",
      "photoUrl": "",
      "userId": "07020050643692955953"
     },
     "user_tz": -540
    },
    "id": "0aeJ-b6yXVeD",
    "outputId": "f726a422-f77c-4b0a-d0df-5451a6f28af8"
   },
   "outputs": [
    {
     "data": {
      "image/png": "[encoded data removed]",
      "text/plain": [
       "<Figure size 432x288 with 1 Axes>"
      ]
     },
     "metadata": {
      "needs_background": "light"
     },
     "output_type": "display_data"
    }
   ],
   "source": [
    "#원본 훈련세트와 검증 세트로 산점도 그리기\n",
    "# 파란점이 훈련 세트 빨간점이 검증 세트\n",
    "plt.plot(x_train[:50, 0], x_train[:50, 1], 'bo')\n",
    "plt.plot(x_val[:50, 0], x_val[:50, 1], 'ro')\n",
    "plt.xlabel('feature 1')\n",
    "plt.ylabel('feature 2')\n",
    "plt.legend(['train set', 'val. set'])\n",
    "plt.show()"
   ]
  },
  {
   "cell_type": "code",
   "execution_count": 57,
   "metadata": {
    "colab": {
     "base_uri": "https://localhost:8080/",
     "height": 279
    },
    "executionInfo": {
     "elapsed": 13688,
     "status": "ok",
     "timestamp": 1601708494707,
     "user": {
      "displayName": "정지범",
      "photoUrl": "",
      "userId": "07020050643692955953"
     },
     "user_tz": -540
    },
    "id": "4bRcS8Q7X7v4",
    "outputId": "9e4edeb1-a80a-4ead-d175-5d8a95714dc4"
   },
   "outputs": [
    {
     "data": {
      "image/png": "[encoded data removed]",
      "text/plain": [
       "<Figure size 432x288 with 1 Axes>"
      ]
     },
     "metadata": {
      "needs_background": "light"
     },
     "output_type": "display_data"
    }
   ],
   "source": [
    "#전처리한 훈련 세트와 검증 세트로 산점도 그리기\n",
    "plt.plot(x_train_scaled[:50,0], x_train_scaled[:50, 1], 'bo')\n",
    "plt.plot(x_val_scaled[:50, 0], x_val_scaled[:50, 1], 'ro')\n",
    "plt.xlabel('feature 1')\n",
    "plt.ylabel('feature 2')\n",
    "plt.legend(['train set', 'val. set'])\n",
    "plt.show()"
   ]
  },
  {
   "cell_type": "code",
   "execution_count": 58,
   "metadata": {
    "colab": {
     "base_uri": "https://localhost:8080/",
     "height": 279
    },
    "executionInfo": {
     "elapsed": 13660,
     "status": "ok",
     "timestamp": 1601708494707,
     "user": {
      "displayName": "정지범",
      "photoUrl": "",
      "userId": "07020050643692955953"
     },
     "user_tz": -540
    },
    "id": "dLs82ZcPZ6eB",
    "outputId": "10f5a900-8bf7-4509-d9db-bce5d43c757b"
   },
   "outputs": [
    {
     "data": {
      "image/png": "[encoded data removed]",
      "text/plain": [
       "<Figure size 432x288 with 1 Axes>"
      ]
     },
     "metadata": {
      "needs_background": "light"
     },
     "output_type": "display_data"
    }
   ],
   "source": [
    "#올바르게 검증 세트 전처리 하기\n",
    "x_val_scaled = (x_val - train_mean) / train_std\n",
    "plt.plot(x_train_scaled[:50,0], x_train_scaled[:50, 1], 'bo')\n",
    "plt.plot(x_val_scaled[:50,0], x_val_scaled[:50,1], 'ro')\n",
    "plt.xlabel('feature 1')\n",
    "plt.ylabel('feature 2')\n",
    "plt.legend(['train set', 'val. set'])\n",
    "plt.show()"
   ]
  },
  {
   "cell_type": "code",
   "execution_count": 59,
   "metadata": {
    "colab": {
     "base_uri": "https://localhost:8080/",
     "height": 34
    },
    "executionInfo": {
     "elapsed": 13633,
     "status": "ok",
     "timestamp": 1601708494708,
     "user": {
      "displayName": "정지범",
      "photoUrl": "",
      "userId": "07020050643692955953"
     },
     "user_tz": -540
    },
    "id": "gezjm7eJjfTx",
    "outputId": "680bfa99-5bb3-40ec-9358-ad647a5e3cd8"
   },
   "outputs": [
    {
     "data": {
      "text/plain": [
       "0.967032967032967"
      ]
     },
     "execution_count": 59,
     "metadata": {},
     "output_type": "execute_result"
    }
   ],
   "source": [
    "layer2.score(x_val_scaled, y_val)"
   ]
  },
  {
   "cell_type": "markdown",
   "metadata": {
    "id": "CZZpQEmSkTEh"
   },
   "source": [
    "05-2 과대적합 / 과소 적합 알아보기"
   ]
  },
  {
   "cell_type": "code",
   "execution_count": 63,
   "metadata": {
    "executionInfo": {
     "elapsed": 13632,
     "status": "ok",
     "timestamp": 1601708494708,
     "user": {
      "displayName": "정지범",
      "photoUrl": "",
      "userId": "07020050643692955953"
     },
     "user_tz": -540
    },
    "id": "iuQR-J4qkRWX"
   },
   "outputs": [],
   "source": [
    "#5-2장 클래스 변경하기\n",
    "class SingleLayer2:\n",
    "    \n",
    "    def __init__(self, learning_rate = 0.1):\n",
    "        self.w = None\n",
    "        self.b = None\n",
    "        self.losses = []\n",
    "        self.val_losses = []           # 검증 세트 손실을 기록하기위해 인스턴스 변수 추가\n",
    "        self.w_history = []            # 가중치의 변화를 관찰하기위한 인스턴스 변수\n",
    "        self.lr = learning_rate        # 학습률 파라미터 \n",
    "        \n",
    "    def forpass(self, x):\n",
    "        z = np.sum(x * self.w) + self.b    #정방향 계산\n",
    "        return z\n",
    "    \n",
    "    def backprop(self, x, err):\n",
    "        w_grad = x * err                   # 가중치 변화율\n",
    "        b_grad = 1 * err                   # 절편 변화율\n",
    "        return w_grad, b_grad\n",
    "    \n",
    "    def add_bias(self, x):\n",
    "        return np.c_[np.ones((x.shape[0], 1)), x]\n",
    "    \n",
    "    def activation(self, z):              \n",
    "        a = 1 / (1 + np.exp(-z))          # 활성화 함수\n",
    "        return a\n",
    "    \n",
    "    def fit(self, x, y, epochs=100, x_val=None, y_val=None):\n",
    "        self.w = np.ones(x.shape[1])                          # 가중치 초기화\n",
    "        self.b = 0                                            # 절편 초기화\n",
    "        self.w_history.append(self.w.copy())                  # 가중치 기록\n",
    "        np.random.seed(42)                                    # 무작위로 시드 저장\n",
    "        for i in range(epochs):                              #이포크 만큼 반복\n",
    "            loss = 0\n",
    "            # 인덱스를 섞습니다.\n",
    "            indexes = np.random.permutation(np.arange(len(x)))\n",
    "            for i in indexes:                                # 모든 샘플만큼 반복\n",
    "                z = self.forpass(x[i])                       # 정방향 계산\n",
    "                a = self.activation(z)                       # 활성화 함수 적용\n",
    "                err = -(y[i] - a)                            # 오차계산\n",
    "                w_grad, b_grad = self.backprop(x[i], err)    #역방향 계산\n",
    "                self.w -= self.lr * w_grad                   # 가중치 업데이트\n",
    "                self.b -= b_grad                             # 절편 업데이트\n",
    "                #가중치 기록\n",
    "                self.w_history.append(self.w.copy())\n",
    "                # 안전한 로그 계산을 위해 클리핑 한 후 손실 누적\n",
    "                a = np.clip(a, 1e-10, 1-1e-10)\n",
    "                loss += -(y[i] * np.log(a) + (1-y[i]) * np.log(1-a))\n",
    "            #에포크마다 평균 손실 저장\n",
    "            self.losses.append(loss/len(y))\n",
    "            #검증 세트에 대한 손실 계산\n",
    "            self.update_val_loss(x_val, y_val)\n",
    "    \n",
    "    def predict(self,x):\n",
    "        z = [self.forpass(x_i) for x_i in x]\n",
    "        a = self.activation(np.array(z))\n",
    "        return np.array(z) > 0\n",
    "    \n",
    "    def score(self, x, y):\n",
    "        return np.mean(self.predict(x) == y)\n",
    "    \n",
    "    def update_val_loss(self, x_val, y_val):\n",
    "        if x_val is None:\n",
    "            return\n",
    "        val_loss = 0\n",
    "        for i in range(len(x_val)):\n",
    "            z = self.forpass(x_val[i])        # 정방향 계산\n",
    "            a = self.activation(z)            # 활성화 함수 적용\n",
    "            a = np.clip(a, 1e-10, 1-1e-10)\n",
    "            val_loss += -(y_val[i] * np.log(a) + (1-y_val[i]) * np.log(1-a))\n",
    "        self.val_losses.append(val_loss/len(y_val))"
   ]
  },
  {
   "cell_type": "code",
   "execution_count": 64,
   "metadata": {
    "executionInfo": {
     "elapsed": 16288,
     "status": "ok",
     "timestamp": 1601708497365,
     "user": {
      "displayName": "정지범",
      "photoUrl": "",
      "userId": "07020050643692955953"
     },
     "user_tz": -540
    },
    "id": "khjQAvxYlh94"
   },
   "outputs": [],
   "source": [
    "layer3 = SingleLayer2()\n",
    "layer3.fit(x_train_scaled, y_train, x_val = x_val_scaled, y_val = y_val)"
   ]
  },
  {
   "cell_type": "code",
   "execution_count": 65,
   "metadata": {
    "colab": {
     "base_uri": "https://localhost:8080/",
     "height": 283
    },
    "executionInfo": {
     "elapsed": 16260,
     "status": "ok",
     "timestamp": 1601708497366,
     "user": {
      "displayName": "정지범",
      "photoUrl": "",
      "userId": "07020050643692955953"
     },
     "user_tz": -540
    },
    "id": "_-WGQraGlqm5",
    "outputId": "50585a2d-dfa2-4590-9935-a11f6f9ee451"
   },
   "outputs": [
    {
     "data": {
      "image/png": "[encoded data removed]",
      "text/plain": [
       "<Figure size 432x288 with 1 Axes>"
      ]
     },
     "metadata": {
      "needs_background": "light"
     },
     "output_type": "display_data"
    }
   ],
   "source": [
    "#손실값으로 그래프 그려 에포크 횟수 지정하기\n",
    "plt.ylim(0, 0.3)\n",
    "plt.plot(layer3.losses)\n",
    "plt.plot(layer3.val_losses)\n",
    "plt.ylabel('loss')\n",
    "plt.xlabel('epoch')\n",
    "plt.legend(['train_loss', 'val_loss'])\n",
    "plt.show()"
   ]
  },
  {
   "cell_type": "code",
   "execution_count": 63,
   "metadata": {
    "colab": {
     "base_uri": "https://localhost:8080/",
     "height": 34
    },
    "executionInfo": {
     "elapsed": 17065,
     "status": "ok",
     "timestamp": 1601708498199,
     "user": {
      "displayName": "정지범",
      "photoUrl": "",
      "userId": "07020050643692955953"
     },
     "user_tz": -540
    },
    "id": "6uphrBQSl6fl",
    "outputId": "1af6ea0a-0dd3-4541-eecf-00497df34a6b"
   },
   "outputs": [
    {
     "data": {
      "text/plain": [
       "0.978021978021978"
      ]
     },
     "execution_count": 63,
     "metadata": {},
     "output_type": "execute_result"
    }
   ],
   "source": [
    "#훈련 조기 종료하기(early stopping)\n",
    "#early stopping은 특정 시점에서 멈추게한다.\n",
    "layer4 = SingleLayer2()\n",
    "layer4.fit(x_train_scaled, y_train, epochs=20)\n",
    "layer4.score(x_val_scaled, y_val)"
   ]
  },
  {
   "cell_type": "markdown",
   "metadata": {
    "id": "KF09hhJKmU7N"
   },
   "source": [
    "05-3 규제방법 배우고 단일층 신경망에 적용하기"
   ]
  },
  {
   "cell_type": "code",
   "execution_count": 73,
   "metadata": {
    "executionInfo": {
     "elapsed": 17065,
     "status": "ok",
     "timestamp": 1601708498200,
     "user": {
      "displayName": "정지범",
      "photoUrl": "",
      "userId": "07020050643692955953"
     },
     "user_tz": -540
    },
    "id": "ObSBfjq5mI2H"
   },
   "outputs": [],
   "source": [
    "#5-4장 클래스 변경하기\n",
    "class SingleLayer3:\n",
    "    \n",
    "    def __init__(self, learning_rate = 0.1, l1=0, l2=0):    #l1, l2의 기본값은 0\n",
    "        self.w = None\n",
    "        self.b = None\n",
    "        self.losses = []\n",
    "        self.val_losses = []\n",
    "        self.w_history = []\n",
    "        self.lr = learning_rate\n",
    "        self.l1 = l1                  # l1규제\n",
    "        self.l2 = l2                  # 강도를 조절하는 매개변수 l2\n",
    "        \n",
    "    def forpass(self, x):\n",
    "        z = np.sum(x * self.w) + self.b         #정방향 계산\n",
    "        return z\n",
    "    \n",
    "    def backprop(self, x, err):             \n",
    "        w_grad = x * err             # 가중치 변화율\n",
    "        b_grad = 1 * err             # 절편 변화율\n",
    "        return w_grad, b_grad\n",
    "    \n",
    "    def add_bias(self, x):\n",
    "        return np.c_[np.ones((x.shape[0], 1)), x]\n",
    "    \n",
    "    def activation(self, z):\n",
    "        a = 1 / (1 + np.exp(-z))     #활성화 함수\n",
    "        return a\n",
    "    \n",
    "    def fit(self, x, y, epochs=100, x_val=None, y_val=None):\n",
    "        self.w = np.ones(x.shape[1])    # 가중치 초기화\n",
    "        self.b = 0                      # 절편 초기화\n",
    "        self.w_history.append(self.w.copy())   # 가중치 기록\n",
    "        np.random.seed(42)              # 무작위로 시드를 섞음\n",
    "        for i in range(epochs):        #epochs 만큼 반복\n",
    "            loss = 0\n",
    "            #인덱스를 섞습니다.\n",
    "            indexes = np.random.permutation(np.arange(len(x)))\n",
    "            for i in indexes:              # 모든 샘플에 대해 반복\n",
    "                z = self.forpass(x[i])      # 정방향 계산\n",
    "                a = self.activation(z)     # 활성화 함수 계산\n",
    "                err = -(y[i] - a)          # 오차 계산\n",
    "                w_grad, b_grad = self.backprop(x[i], err)  # 역방향 계산\n",
    "                # 그레이디언트에서 페널티 항의 미분값을 더한다.\n",
    "                w_grad += self.l1 * np.sign(self.w) + self.l2 * self.w \n",
    "                self.w -= self.lr * w_grad  # 가중치 업데이트\n",
    "                self.b -= b_grad            # 절편 업데이트\n",
    "                # 가중치 기록\n",
    "                self.w_history.append(self.w.copy())\n",
    "                # 안전한 로그 계산을 위해 클리핑 한 후 손실을 누적함.\n",
    "                a = np.clip(a, 1e-10, 1-1e-10)\n",
    "                loss += -(y[i] * np.log(a) + (1-y[i]) * np.log(1-a))\n",
    "            #에포크 마다 평균 손실을 저장\n",
    "            self.losses.append(loss/len(y) + self.reg_loss())\n",
    "            # 검증 세트에 대한 손실을 계산\n",
    "            self.update_val_loss(x_val, y_val)\n",
    "    \n",
    "    def predict(self,x):\n",
    "        z = [self.forpass(x_i) for x_i in x]\n",
    "        a = self.activation(np.array(z))\n",
    "        return np.array(z) > 0\n",
    "    \n",
    "    def score(self, x, y):\n",
    "        return np.mean(self.predict(x) == y)\n",
    "    \n",
    "    def update_val_loss(self, x_val, y_val):\n",
    "        if x_val is None:\n",
    "            return\n",
    "        val_loss = 0\n",
    "        for i in range(len(x_val)):\n",
    "            z = self.forpass(x_val[i])    # 정방향 계산\n",
    "            a = self.activation(z)        # 활성화 함수 적용\n",
    "            a = np.clip(a, 1e-10, 1-1e-10)\n",
    "            val_loss += -(y_val[i] * np.log(a) + (1-y_val[i]) * np.log(1-a))\n",
    "        self.val_losses.append(val_loss/len(y_val) + self.reg_loss())  #검증 세트 손실값 추가할때 페널티 항 추가하기\n",
    "    \n",
    "    def reg_loss(self):\n",
    "        return self.l1 * np.sum(np.abs(self.w)) + self.l2 / 2 * np.sum(self.w**2)\n"
   ]
  },
  {
   "cell_type": "code",
   "execution_count": 75,
   "metadata": {
    "colab": {
     "base_uri": "https://localhost:8080/",
     "height": 1000
    },
    "executionInfo": {
     "elapsed": 12134,
     "status": "ok",
     "timestamp": 1601708666366,
     "user": {
      "displayName": "정지범",
      "photoUrl": "",
      "userId": "07020050643692955953"
     },
     "user_tz": -540
    },
    "id": "LoZJq8ENE-0k",
    "outputId": "e360a95b-a2c7-409a-9935-a75f68b22e92"
   },
   "outputs": [
    {
     "data": {
      "image/png": "[encoded data removed]",
      "text/plain": [
       "<Figure size 432x288 with 1 Axes>"
      ]
     },
     "metadata": {
      "needs_background": "light"
     },
     "output_type": "display_data"
    },
    {
     "data": {
      "image/png": "[encoded data removed]",
      "text/plain": [
       "<Figure size 432x288 with 1 Axes>"
      ]
     },
     "metadata": {
      "needs_background": "light"
     },
     "output_type": "display_data"
    },
    {
     "data": {
      "image/png": "[encoded data removed]",
      "text/plain": [
       "<Figure size 432x288 with 1 Axes>"
      ]
     },
     "metadata": {
      "needs_background": "light"
     },
     "output_type": "display_data"
    },
    {
     "data": {
      "image/png": "[encoded data removed]",
      "text/plain": [
       "<Figure size 432x288 with 1 Axes>"
      ]
     },
     "metadata": {
      "needs_background": "light"
     },
     "output_type": "display_data"
    },
    {
     "data": {
      "image/png": "[encoded data removed]",
      "text/plain": [
       "<Figure size 432x288 with 1 Axes>"
      ]
     },
     "metadata": {
      "needs_background": "light"
     },
     "output_type": "display_data"
    },
    {
     "data": {
      "image/png": "[encoded data removed]",
      "text/plain": [
       "<Figure size 432x288 with 1 Axes>"
      ]
     },
     "metadata": {
      "needs_background": "light"
     },
     "output_type": "display_data"
    }
   ],
   "source": [
    "l1_list = [0.0001, 0.001, 0.01]  #규제 강도에 따라 학습곡선과 가중치가 바뀌는걸 확인해보기 위한 리스트\n",
    "# L1 규제 = 그레이디언트에서 하이퍼 파라미터에 가중치 부호를 곱하여 그레이디언트에 더한다\n",
    "# w_grad += alpha * np.sign(w)\n",
    "for l1 in l1_list:\n",
    "    lyr = SingleLayer3(l1 = l1)\n",
    "    lyr.fit(x_train_scaled, y_train, x_val=x_val_scaled, y_val = y_val)\n",
    "\n",
    "    plt.plot(lyr.losses)\n",
    "    plt.plot(lyr.val_losses)\n",
    "    plt.title('Learning Curve (l1={})'.format(l1))  #포맷팅을 사용하여 처음 l1값 0.0001이 괄호안에 입력이된다.\n",
    "    plt.ylabel('loss')\n",
    "    plt.xlabel('epoch')\n",
    "    plt.legend(['train_loss', 'val_loss'])\n",
    "    plt.ylim(0, 0.3)   # y축의 최소,최대값 설정\n",
    "    plt.show()\n",
    "    \n",
    "    plt.plot(lyr.w, 'bo')\n",
    "    plt.title('weight (l1={})'.format(l1))\n",
    "    plt.ylabel('value')\n",
    "    plt.xlabel('weight')\n",
    "    plt.ylim(-4,4)\n",
    "    plt.show()"
   ]
  },
  {
   "cell_type": "code",
   "execution_count": 66,
   "metadata": {
    "colab": {
     "base_uri": "https://localhost:8080/",
     "height": 34
    },
    "executionInfo": {
     "elapsed": 1235,
     "status": "ok",
     "timestamp": 1601708689233,
     "user": {
      "displayName": "정지범",
      "photoUrl": "",
      "userId": "07020050643692955953"
     },
     "user_tz": -540
    },
    "id": "Owl63ornGCi0",
    "outputId": "de06c3a4-71c2-4116-a382-61937e0a926d"
   },
   "outputs": [
    {
     "data": {
      "text/plain": [
       "0.978021978021978"
      ]
     },
     "execution_count": 66,
     "metadata": {},
     "output_type": "execute_result"
    }
   ],
   "source": [
    "layer5 = SingleLayer3(l1=0.001)   #앞에 L1규제 값중 L1값이 커질수록 가중치 값은 0에 가까워진다 따라서 중간값인 0.001사용\n",
    "layer5.fit(x_train_scaled, y_train, epochs=20) #early stopping를 사용하여 epochs 20때 훈련종료\n",
    "layer5.score(x_val_scaled, y_val)"
   ]
  },
  {
   "cell_type": "code",
   "execution_count": 76,
   "metadata": {
    "colab": {
     "base_uri": "https://localhost:8080/",
     "height": 1000
    },
    "executionInfo": {
     "elapsed": 11016,
     "status": "ok",
     "timestamp": 1601708699620,
     "user": {
      "displayName": "정지범",
      "photoUrl": "",
      "userId": "07020050643692955953"
     },
     "user_tz": -540
    },
    "id": "Zfoi2L-AJ7Pd",
    "outputId": "66fb6f73-28a0-4670-cb66-27a564b52801"
   },
   "outputs": [
    {
     "data": {
      "image/png": "[encoded data removed]",
      "text/plain": [
       "<Figure size 432x288 with 1 Axes>"
      ]
     },
     "metadata": {
      "needs_background": "light"
     },
     "output_type": "display_data"
    },
    {
     "data": {
      "image/png": "[encoded data removed]",
      "text/plain": [
       "<Figure size 432x288 with 1 Axes>"
      ]
     },
     "metadata": {
      "needs_background": "light"
     },
     "output_type": "display_data"
    },
    {
     "data": {
      "image/png": "[encoded data removed]",
      "text/plain": [
       "<Figure size 432x288 with 1 Axes>"
      ]
     },
     "metadata": {
      "needs_background": "light"
     },
     "output_type": "display_data"
    },
    {
     "data": {
      "image/png": "[encoded data removed]",
      "text/plain": [
       "<Figure size 432x288 with 1 Axes>"
      ]
     },
     "metadata": {
      "needs_background": "light"
     },
     "output_type": "display_data"
    },
    {
     "data": {
      "image/png": "[encoded data removed]",
      "text/plain": [
       "<Figure size 432x288 with 1 Axes>"
      ]
     },
     "metadata": {
      "needs_background": "light"
     },
     "output_type": "display_data"
    },
    {
     "data": {
      "image/png": "[encoded data removed]",
      "text/plain": [
       "<Figure size 432x288 with 1 Axes>"
      ]
     },
     "metadata": {
      "needs_background": "light"
     },
     "output_type": "display_data"
    }
   ],
   "source": [
    "l2_list = [0.0001, 0.001, 0.01]    # L2 규제의 강도 조절 , 모델 훈련 \n",
    "# L2 규제 = 그레이디언트에서 alpha에 가중치를 곱하여 그레이디언트에 더합니다.\n",
    "# w_grad += alpha * w\n",
    "for l2 in l2_list:\n",
    "    lyr = SingleLayer3(l2=l2)\n",
    "    lyr.fit(x_train_scaled, y_train, x_val = x_val_scaled, y_val = y_val)\n",
    "    plt.plot(lyr.losses)\n",
    "    plt.plot(lyr.val_losses)\n",
    "    plt.title('Learning Curve (l2={})'.format(l2))\n",
    "    plt.ylabel('loss')\n",
    "    plt.xlabel('epoch')\n",
    "    plt.legend(['train_loss', 'val_loss'])\n",
    "    plt.ylim(0, 0.3)\n",
    "    plt.show()\n",
    "    \n",
    "    plt.plot(lyr.w, 'bo')\n",
    "    plt.title('Weight (l2={})'.format(l2))\n",
    "    plt.ylabel('value')\n",
    "    plt.xlabel('weight')\n",
    "    plt.ylim(-4, 4)\n",
    "    plt.show()"
   ]
  },
  {
   "cell_type": "code",
   "execution_count": 83,
   "metadata": {
    "colab": {
     "base_uri": "https://localhost:8080/",
     "height": 34
    },
    "executionInfo": {
     "elapsed": 11822,
     "status": "ok",
     "timestamp": 1601708700947,
     "user": {
      "displayName": "정지범",
      "photoUrl": "",
      "userId": "07020050643692955953"
     },
     "user_tz": -540
    },
    "id": "VV3khsuULAj6",
    "outputId": "3e32298d-ae34-4135-fa84-6f2857ae5e2d"
   },
   "outputs": [
    {
     "data": {
      "text/plain": [
       "0.967032967032967"
      ]
     },
     "execution_count": 83,
     "metadata": {},
     "output_type": "execute_result"
    }
   ],
   "source": [
    "layer6 = SingleLayer3(l2=0.01) # L2규제는 규제 강도가 강해져도 L1 규제만큼 과소적합(언더피팅)이 심해지지는않는다.\n",
    "                               # 가중치 그래프를 보아도 0에 너무 가깝게 줄어들지 않는다는 것을 알 수 있음.\n",
    "layer6.fit(x_train_scaled, y_train, epochs=50)  #early stopping 에포크 50번 횟수만큼 훈련후 성능 평가\n",
    "layer6.score(x_val_scaled, y_val)"
   ]
  },
  {
   "cell_type": "code",
   "execution_count": 84,
   "metadata": {
    "colab": {
     "base_uri": "https://localhost:8080/",
     "height": 34
    },
    "executionInfo": {
     "elapsed": 11171,
     "status": "ok",
     "timestamp": 1601708700948,
     "user": {
      "displayName": "정지범",
      "photoUrl": "",
      "userId": "07020050643692955953"
     },
     "user_tz": -540
    },
    "id": "xtT5lKP-LQrW",
    "outputId": "a166765a-9fef-4777-9487-f3950e3ae56e"
   },
   "outputs": [
    {
     "data": {
      "text/plain": [
       "88"
      ]
     },
     "execution_count": 84,
     "metadata": {},
     "output_type": "execute_result"
    }
   ],
   "source": [
    "np.sum(layer6.predict(x_val_scaled) == y_val)"
   ]
  },
  {
   "cell_type": "code",
   "execution_count": 85,
   "metadata": {
    "colab": {
     "base_uri": "https://localhost:8080/",
     "height": 34
    },
    "executionInfo": {
     "elapsed": 10660,
     "status": "ok",
     "timestamp": 1601708700949,
     "user": {
      "displayName": "정지범",
      "photoUrl": "",
      "userId": "07020050643692955953"
     },
     "user_tz": -540
    },
    "id": "BQjrJXYBLV8m",
    "outputId": "8cebf12f-b7d2-4053-c8f9-ca46d85827e4"
   },
   "outputs": [
    {
     "data": {
      "text/plain": [
       "0.978021978021978"
      ]
     },
     "execution_count": 85,
     "metadata": {},
     "output_type": "execute_result"
    }
   ],
   "source": [
    "sgd = SGDClassifier(loss='log', penalty='l2', alpha=0.001, random_state=42)\n",
    "sgd.fit(x_train_scaled, y_train)\n",
    "sgd.score(x_val_scaled, y_val)"
   ]
  },
  {
   "cell_type": "markdown",
   "metadata": {
    "id": "vSyRX0D-LsC5"
   },
   "source": [
    "5-4 교차검증을 알아보고 사이킷런으로 수행해봅시다"
   ]
  },
  {
   "cell_type": "code",
   "execution_count": 86,
   "metadata": {
    "executionInfo": {
     "elapsed": 9539,
     "status": "ok",
     "timestamp": 1601708700949,
     "user": {
      "displayName": "정지범",
      "photoUrl": "",
      "userId": "07020050643692955953"
     },
     "user_tz": -540
    },
    "id": "S072YKPtLlpu"
   },
   "outputs": [],
   "source": [
    "validation_scores = []"
   ]
  },
  {
   "cell_type": "code",
   "execution_count": 139,
   "metadata": {
    "colab": {
     "base_uri": "https://localhost:8080/",
     "height": 34
    },
    "executionInfo": {
     "elapsed": 5530,
     "status": "ok",
     "timestamp": 1601709924307,
     "user": {
      "displayName": "정지범",
      "photoUrl": "",
      "userId": "07020050643692955953"
     },
     "user_tz": -540
    },
    "id": "kJzIrOYIMOd0",
    "outputId": "8e0c78d1-a3ed-41d5-ed90-ea9340f8f83b"
   },
   "outputs": [
    {
     "name": "stdout",
     "output_type": "stream",
     "text": [
      "0.9773825208607818\n"
     ]
    }
   ],
   "source": [
    "k = 5              # k-fold 교차 검증이라하여 k는 훈련세트를 k개의 폴드로 나눔\n",
    "bins = len(x_train) // k   #한 폴드에 들어갈 샘플의 개수/ len(x_train) = 364 // = 72.8 하지만 // 사용했기때문에 72\n",
    "\n",
    "for i in range(k):   # i 부터 k값까지 반복\n",
    "    start = i * bins  # start 값은 i * bins(72) = 72\n",
    "    end = (i+1) * bins # end 값은 (i+1) * bins(72) = 144\n",
    "    val_fold = x_train_all[start : end]     # 검증폴드의 값은 전체훈련데이터의[72 ~ 143]까지 리스트로 가지고있음\n",
    "    val_target = y_train_all[start : end]   # 검증타겟의 값은 전체타겟데이터의[72 ~ 143]까지 리스트로 가지고있음\n",
    "   \n",
    "    train_index = list(range(0, start)) + list(range(end, len(x_train)))  #트레인_인덱스는 리스트형태[0...72,144....363] 임\n",
    "    train_fold = x_train_all[train_index]  # 훈련폴드의 값은 전체훈련데이터의[0...72,144...363]\n",
    "    train_target = y_train_all[train_index] # 훈련타겟의 값은 전체타겟 데이터의[0....72,144...363]    \n",
    "    \n",
    "    train_mean = np.mean(train_fold, axis = 0) #train_fold의 행간의 평균을 계산\n",
    "    train_std = np.std(train_fold, axis = 0)   #train_fold의  행간의 표준편차 계산\n",
    "    train_fold_scaled = (train_fold - train_mean) / train_std  # 값을 0또는 1로 맞추기 위해 특성의 스케일을 맞춤\n",
    "    val_fold_scaled = (val_fold - train_mean) / train_std      \n",
    "    \n",
    "    lyr = SingleLayer3(l2=0.01)     #L2 규제 사용하여 L2규제의 강도는 0.01\n",
    "    lyr.fit(train_fold_scaled, train_target, epochs = 50)\n",
    "    score = lyr.score(val_fold_scaled, val_target)\n",
    "    validation_scores.append(score)\n",
    "    \n",
    "print(np.mean(validation_scores))"
   ]
  },
  {
   "cell_type": "code",
   "execution_count": 73,
   "metadata": {
    "colab": {
     "base_uri": "https://localhost:8080/",
     "height": 34
    },
    "executionInfo": {
     "elapsed": 1207,
     "status": "ok",
     "timestamp": 1601711577625,
     "user": {
      "displayName": "정지범",
      "photoUrl": "",
      "userId": "07020050643692955953"
     },
     "user_tz": -540
    },
    "id": "Gi9ZpkKtNjLK",
    "outputId": "ff387ed6-549f-4a50-ebcb-8aa88edbb70c"
   },
   "outputs": [
    {
     "name": "stdout",
     "output_type": "stream",
     "text": [
      "0.850096618357488\n"
     ]
    }
   ],
   "source": [
    "#cross_validation() 함수로 교차 검증 점수 계산하기\n",
    "from sklearn.model_selection import cross_validate\n",
    "sgd = SGDClassifier(loss = 'log', penalty = 'l2', alpha = 0.001, random_state = 42)\n",
    "scores = cross_validate(sgd, x_train_all, y_train_all , cv=10)\n",
    "print(np.mean(scores['test_score']))"
   ]
  },
  {
   "cell_type": "code",
   "execution_count": 74,
   "metadata": {
    "colab": {
     "base_uri": "https://localhost:8080/",
     "height": 34
    },
    "executionInfo": {
     "elapsed": 936,
     "status": "ok",
     "timestamp": 1601711679003,
     "user": {
      "displayName": "정지범",
      "photoUrl": "",
      "userId": "07020050643692955953"
     },
     "user_tz": -540
    },
    "id": "u2nQVvx_cmex",
    "outputId": "874e4f74-9c97-41dd-cd42-2d68513a1ecf"
   },
   "outputs": [
    {
     "name": "stdout",
     "output_type": "stream",
     "text": [
      "0.9694202898550724\n"
     ]
    }
   ],
   "source": [
    "#Pipeline 클래스 사용해 교차 검증 수행하기\n",
    "from sklearn.pipeline import make_pipeline\n",
    "from sklearn.preprocessing import StandardScaler\n",
    "pipe = make_pipeline(StandardScaler(), sgd)\n",
    "scores = cross_validate(pipe, x_train_all, y_train_all, cv=10, return_train_score=True)\n",
    "print(np.mean(scores['test_score']))"
   ]
  },
  {
   "cell_type": "code",
   "execution_count": 75,
   "metadata": {
    "colab": {
     "base_uri": "https://localhost:8080/",
     "height": 34
    },
    "executionInfo": {
     "elapsed": 1018,
     "status": "ok",
     "timestamp": 1601711698967,
     "user": {
      "displayName": "정지범",
      "photoUrl": "",
      "userId": "07020050643692955953"
     },
     "user_tz": -540
    },
    "id": "v1qE_l2ydKHz",
    "outputId": "fae8626c-a33d-458e-f1a2-0f047dc7945c"
   },
   "outputs": [
    {
     "name": "stdout",
     "output_type": "stream",
     "text": [
      "0.9875478561631581\n"
     ]
    }
   ],
   "source": [
    "print(np.mean(scores['train_score']))"
   ]
  },
  {
   "cell_type": "markdown",
   "metadata": {
    "id": "-hUYOKk6VNX2"
   },
   "source": [
    "6-1 신경망 알고리즘을 벡터화하여 한번에 전체 샘플을 사용함"
   ]
  },
  {
   "cell_type": "code",
   "execution_count": null,
   "metadata": {
    "id": "5psxPqs5dO7j"
   },
   "outputs": [],
   "source": []
  }
 ],
 "metadata": {
  "colab": {
   "authorship_tag": "ABX9TyPlSiK9LpyL5wrD1N94wBml",
   "collapsed_sections": [],
   "name": "데이터분석기법.ipynb",
   "provenance": []
  },
  "kernelspec": {
   "display_name": "Python 3",
   "language": "python",
   "name": "python3"
  },
  "language_info": {
   "codemirror_mode": {
    "name": "ipython",
    "version": 3
   },
   "file_extension": ".py",
   "mimetype": "text/x-python",
   "name": "python",
   "nbconvert_exporter": "python",
   "pygments_lexer": "ipython3",
   "version": "3.8.3"
  }
 },
 "nbformat": 4,
 "nbformat_minor": 1
}
