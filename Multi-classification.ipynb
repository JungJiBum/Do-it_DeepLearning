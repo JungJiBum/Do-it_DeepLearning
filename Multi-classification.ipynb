{
 "cells": [
  {
   "cell_type": "code",
   "execution_count": 1,
   "metadata": {
    "executionInfo": {
     "elapsed": 1496,
     "status": "ok",
     "timestamp": 1601815458166,
     "user": {
      "displayName": "정지범",
      "photoUrl": "",
      "userId": "07020050643692955953"
     },
     "user_tz": -540
    },
    "id": "-Wpu0a2HijSP"
   },
   "outputs": [],
   "source": [
    "import numpy as np\n",
    "import matplotlib.pyplot as plt\n",
    "from sklearn.datasets import load_breast_cancer  #유방암 데이터 호출\n",
    "from sklearn.model_selection import train_test_split  # 데이터를 분리하기위한 test_split\n",
    "\n",
    "cancer = load_breast_cancer()  # cancer변수에 유방암데이터 선언\n",
    "x = cancer.data                # x는 유방암데이터의 데이터값\n",
    "y = cancer.target              # y는 유방암데이터의 타겟값\n",
    "\n",
    "x_train_all, x_test, y_train_all, y_test = train_test_split(x, y, stratify=y, test_size=0.2, random_state=42)\n",
    "# 타겟 데이터를 고르게 분포 (stratify = y)\n",
    "# test_size는 데이터 세트의 비율을 조절할떄 사용\n",
    "# random_state는 무작위로 데이터를 섞은 다음 나누기 위해 사용\n",
    "\n",
    "# x(569,30) 개의 데이터를 x_train_all(455,30) 과 x_test(114,30) 으로 분리한다.\n",
    "# y(569, ) 개의 타겟을 y_train_all(455, ) 와 y_test(114, )로 분리한다.\n",
    "\n",
    "x_train, x_val, y_train, y_val = train_test_split(x_train_all, y_train_all, stratify=y_train_all, test_size=0.2, random_state=42)\n",
    "#x_train_all(455,30)을 x_train(364,30)과 x_val(91,30)으로 분리한다 train은 훈련데이터 val은 검증데이터\n",
    "#y_train_all(455, )를 y_train(364, )와 y_val(91, )로 분리한다 "
   ]
  },
  {
   "cell_type": "code",
   "execution_count": 2,
   "metadata": {
    "colab": {
     "base_uri": "https://localhost:8080/",
     "height": 34
    },
    "executionInfo": {
     "elapsed": 1486,
     "status": "ok",
     "timestamp": 1601815458167,
     "user": {
      "displayName": "정지범",
      "photoUrl": "",
      "userId": "07020050643692955953"
     },
     "user_tz": -540
    },
    "id": "owA2iNk5jHxW",
    "outputId": "c451248d-3646-4d5e-91e8-dca5f18ee1a1"
   },
   "outputs": [
    {
     "data": {
      "text/plain": [
       "array(['mean radius', 'mean texture', 'mean perimeter', 'mean area',\n",
       "       'mean smoothness', 'mean compactness', 'mean concavity',\n",
       "       'mean concave points', 'mean symmetry', 'mean fractal dimension',\n",
       "       'radius error', 'texture error', 'perimeter error', 'area error',\n",
       "       'smoothness error', 'compactness error', 'concavity error',\n",
       "       'concave points error', 'symmetry error',\n",
       "       'fractal dimension error', 'worst radius', 'worst texture',\n",
       "       'worst perimeter', 'worst area', 'worst smoothness',\n",
       "       'worst compactness', 'worst concavity', 'worst concave points',\n",
       "       'worst symmetry', 'worst fractal dimension'], dtype='<U23')"
      ]
     },
     "execution_count": 2,
     "metadata": {},
     "output_type": "execute_result"
    }
   ],
   "source": [
    "#데이터 크기확인\n",
    "#print(x_train.shape, x_val.shape)\n",
    "cancer.feature_names\n"
   ]
  },
  {
   "cell_type": "code",
   "execution_count": 3,
   "metadata": {
    "executionInfo": {
     "elapsed": 1258,
     "status": "ok",
     "timestamp": 1601815567859,
     "user": {
      "displayName": "정지범",
      "photoUrl": "",
      "userId": "07020050643692955953"
     },
     "user_tz": -540
    },
    "id": "nafui_xRjyKB"
   },
   "outputs": [],
   "source": [
    "class SingleLayer:\n",
    "\n",
    "    def __init__(self, learning_rate=0.1, l1=0, l2=0):  #learning_rate 는 학습률 \n",
    "        self.w = None #가중치\n",
    "        self.b = None #절편\n",
    "        self.losses = []  #훈련 손실\n",
    "        self.val_losses = [] #검증 손실\n",
    "        self.w_history = [] #가중치 기록\n",
    "        self.lr = learning_rate #학습률\n",
    "        self.l1 = l1  #L1 손실 하이퍼 파라미터\n",
    "        self.l2 = l2  #L2 손실 하이퍼 파라미터\n",
    "    \n",
    "    def forpass(self, x):             # 정방향 계산\n",
    "        z = np.dot(x,self.w) + self.b # 선형 출력을 계산함 / 기존엔 np.sum(x * self.w ) + self.b 라고 사용함\n",
    "        return z                     # np.sum() 행렬 연산 / np.dot() 행렬 곱셈\n",
    "\n",
    "    def backprop(self, x, err):         # 역방향 계산\n",
    "        m = len(x)                      # m은 x_train의 길이 (364)\n",
    "        w_grad = np.dot(x.T, err) / m   # 가중치에 대한 그레이디언트 계산 x.T는 X를 전치한값 (30,364)*(364,1)=(30,1)/ m(364)\n",
    "        b_grad = np.sum(err) / m        # 절편에 대한 그레이디언트 계산\n",
    "        return w_grad, b_grad\n",
    "  \n",
    "    def activation(self, z):\n",
    "        a = 1 / (1 + np.exp(-z))       #시그모이드 계산 / exp함수는 각 성분을 무리수 e의 지수로 삼은 값을 계산함\n",
    "        return a\n",
    "  \n",
    "    def fit(self, x, y, epochs=100, x_val=None, y_val=None):\n",
    "        y = y.reshape(-1, 1)  #타깃을 열 벡터로 바꿈\n",
    "        y_val = y_val.reshape(-1, 1) #검증용 타깃을 열 벡터로 바꿈\n",
    "        \n",
    "        m = len(x)                    #샘플 갯수를 저장\n",
    "        self.w = np.ones((x.shape[1], 1)) #가중치를 초기화함\n",
    "        self.b = 0                      # 절편을 초기화함\n",
    "        self.w_history.append(self.w.copy()) # 가중치 기록\n",
    "        #epochs만큼 반복\n",
    "        for i in range(epochs):\n",
    "            z = self.forpass(x)             #정방향 계산을 수행\n",
    "            a = self.activation(z)          #활성화 함수를 적용\n",
    "            err = -(y - a)                  #오차를 계산합니다\n",
    "            # 오차를 역전파 하여 그레이디언트를 계산\n",
    "            w_grad, b_grad = self.backprop(x, err)\n",
    "            #그레이디언트에서 페널티 항의 미분값을 뺍니다\n",
    "            w_grad += (self.l1 * np.sign(self.w) + self.l2 * self.w) / m  #sign함수는 각 성분의 부호를 계산함 +인경우1 -인경우 -1 0은0\n",
    "            #가중치와 절편을 업데이트 합니다\n",
    "            self.w -= self.lr * w_grad\n",
    "            self.b -= self.lr * b_grad\n",
    "            #가중치를 기록함\n",
    "            self.w_history.append(self.w.copy())\n",
    "            #안전한 로그 계산을 위해 클리핑 합니다.\n",
    "            a = np.clip(a, 1e-10, 1-1e-10)\n",
    "            #로그 손실과 규제 손실을 더하여 리스트에 추가합니다.\n",
    "            loss = np.sum(-(y*np.log(a) + (1-y)*np.log(1-a)))\n",
    "            self.losses.append((loss + self.reg_loss()) / m)\n",
    "            #검증 세트에 대한 손실을 계산함\n",
    "            self.update_val_loss(x_val, y_val)\n",
    "  \n",
    "    def predict(self, x):\n",
    "        z = self.forpass(x)   #정방향 계산을 수행\n",
    "        return z > 0          #스텝 함수를 적용\n",
    "\n",
    "    def score(self, x, y):\n",
    "        #예측과 타깃 열 벡터를 비교하여 True의 비율을 반환\n",
    "        return np.mean(self.predict(x) == y.reshape(-1, 1))\n",
    "\n",
    "    def reg_loss(self):\n",
    "        #가중치에 대한 규제를 적용\n",
    "        return self.l1 * np.sum(np.abs(self.w)) + self.l2 / 2 * np.sum(self.w**2)\n",
    "\n",
    "    def update_val_loss(self, x_val, y_val):\n",
    "        z = self.forpass(x_val)                   #정방향 계산을 수행\n",
    "        a = self.activation(z)                    #활성화 함수를 적용\n",
    "        a = np.clip(a, 1e-10, 1-1e-10)            #출력값을 클리핑함\n",
    "        #로그 손실과 규제 손실을 더하여 리스트에 추가합니다.\n",
    "        val_loss = np.sum(-(y_val * np.log(a) + (1-y_val) * np.log(1-a)))\n",
    "        self.val_losses.append((val_loss + self.reg_loss()) / len(y_val))"
   ]
  },
  {
   "cell_type": "code",
   "execution_count": 4,
   "metadata": {
    "executionInfo": {
     "elapsed": 1039,
     "status": "ok",
     "timestamp": 1601815567861,
     "user": {
      "displayName": "정지범",
      "photoUrl": "",
      "userId": "07020050643692955953"
     },
     "user_tz": -540
    },
    "id": "V-MicQ1Ck-n5"
   },
   "outputs": [],
   "source": [
    "#훈련데이터 표준화 전처리하기 두줄은 이미 위에서 import함\n",
    "#import numpy as np\n",
    "#import matplotlib.pyplot as plt\n",
    "from sklearn.preprocessing import StandardScaler"
   ]
  },
  {
   "cell_type": "code",
   "execution_count": 5,
   "metadata": {
    "executionInfo": {
     "elapsed": 599,
     "status": "ok",
     "timestamp": 1601815567861,
     "user": {
      "displayName": "정지범",
      "photoUrl": "",
      "userId": "07020050643692955953"
     },
     "user_tz": -540
    },
    "id": "kW2lEhXoopm4"
   },
   "outputs": [],
   "source": [
    "scaler = StandardScaler()\n",
    "scaler.fit(x_train)\n",
    "x_train_scaled = scaler.transform(x_train)\n",
    "x_val_scaled = scaler.transform(x_val)\n",
    "#x_train_scaled 는 훈련 세트를 전처리하여 표준화를 적용\n",
    "#x_val_scaled 는 검증 세트를 전처리하여 표준화 적용\n",
    "\n"
   ]
  },
  {
   "cell_type": "code",
   "execution_count": 6,
   "metadata": {
    "colab": {
     "base_uri": "https://localhost:8080/",
     "height": 34
    },
    "executionInfo": {
     "elapsed": 4414,
     "status": "ok",
     "timestamp": 1601815572132,
     "user": {
      "displayName": "정지범",
      "photoUrl": "",
      "userId": "07020050643692955953"
     },
     "user_tz": -540
    },
    "id": "9OYORqIEo3tr",
    "outputId": "48fce446-f278-47e5-ef3b-91b56482e1a9"
   },
   "outputs": [
    {
     "data": {
      "text/plain": [
       "0.978021978021978"
      ]
     },
     "execution_count": 6,
     "metadata": {},
     "output_type": "execute_result"
    }
   ],
   "source": [
    "single_layer = SingleLayer(l2=0.01)\n",
    "single_layer.fit(x_train_scaled , y_train, x_val=x_val_scaled, y_val=y_val, epochs=10000)\n",
    "single_layer.score(x_val_scaled, y_val)\n"
   ]
  },
  {
   "cell_type": "code",
   "execution_count": 7,
   "metadata": {
    "colab": {
     "base_uri": "https://localhost:8080/",
     "height": 283
    },
    "executionInfo": {
     "elapsed": 2738,
     "status": "ok",
     "timestamp": 1601815658206,
     "user": {
      "displayName": "정지범",
      "photoUrl": "",
      "userId": "07020050643692955953"
     },
     "user_tz": -540
    },
    "id": "nZ6CUExrpVmp",
    "outputId": "98fc094c-48f9-4b2e-ce46-638fcf7ccc6a"
   },
   "outputs": [
    {
     "data": {
      "image/png": "[encoded data removed]",
      "text/plain": [
       "<Figure size 432x288 with 1 Axes>"
      ]
     },
     "metadata": {
      "needs_background": "light"
     },
     "output_type": "display_data"
    }
   ],
   "source": [
    "plt.ylim(0, 0.3)\n",
    "plt.plot(single_layer.losses)\n",
    "plt.plot(single_layer.val_losses)\n",
    "plt.ylabel('loss')\n",
    "plt.xlabel('epoch')\n",
    "plt.legend(['train_loss', 'val_loss'])\n",
    "plt.show()"
   ]
  },
  {
   "cell_type": "code",
   "execution_count": 8,
   "metadata": {
    "colab": {
     "base_uri": "https://localhost:8080/",
     "height": 279
    },
    "executionInfo": {
     "elapsed": 1054,
     "status": "ok",
     "timestamp": 1601815849979,
     "user": {
      "displayName": "정지범",
      "photoUrl": "",
      "userId": "07020050643692955953"
     },
     "user_tz": -540
    },
    "id": "qAeKDKgkpzNX",
    "outputId": "319fc3fb-1c16-4273-f814-25db17b4896f"
   },
   "outputs": [
    {
     "data": {
      "image/png": "[encoded data removed]",
      "text/plain": [
       "<Figure size 432x288 with 1 Axes>"
      ]
     },
     "metadata": {
      "needs_background": "light"
     },
     "output_type": "display_data"
    }
   ],
   "source": [
    "w2 = []\n",
    "w3 = []\n",
    "for w in single_layer.w_history:\n",
    "    w2.append(w[2])\n",
    "    w3.append(w[3])\n",
    "\n",
    "plt.plot(w2,w3)\n",
    "plt.plot(w2[-1], w3[-1], 'ro')\n",
    "plt.xlabel('w[2]')\n",
    "plt.ylabel('w[3]')\n",
    "plt.show()"
   ]
  },
  {
   "cell_type": "code",
   "execution_count": 9,
   "metadata": {
    "id": "lyEOWtF1qHzl"
   },
   "outputs": [],
   "source": [
    "class DualLayer(SingleLayer):\n",
    "    \n",
    "    def __init__(self, units=10, learning_rate=0.1, l1=0, l2=0):\n",
    "        self.units = units  #은닉층의 뉴런개수\n",
    "        self.w1 = None  #은닉층의 가중치\n",
    "        self.b1 = None  #은닉층의 절편\n",
    "        self.w2 = None  #출력층의 가중치\n",
    "        self.b2 = None  #출력층의 절편\n",
    "        self.a1 = None  #은닉층의 활성화 출력\n",
    "        self.losses = []  #훈련손실\n",
    "        self.val_losses = []  #검증 손실\n",
    "        self.lr = learning_rate  #학습률\n",
    "        self.l1 = l1  #L1 손실 하이퍼파라미터\n",
    "        self.l2 = l2  #L2 손실 하이퍼파라미터\n",
    "    \n",
    "    def forpass(self, x):\n",
    "        z1 = np.dot(x, self.w1) + self.b1  #첫번째 층의 선형식 계산\n",
    "        self.a1 = self.activation(z1)  #활성화 함수를 적용\n",
    "        z2 = np.dot(self.a1, self.w2) + self.b2  #두번째 층의 선형식 계산\n",
    "        return z2\n",
    "    \n",
    "    def backprop(self, x, err):\n",
    "        m = len(x)  # 샘플 개수\n",
    "        #출력층의 가중치와 절편에 대한 그레이디언트를 계산\n",
    "        w2_grad = np.dot(self.a1.T, err) / m\n",
    "        b2_grad = np.sum(err) / m\n",
    "        #시그모이드 함수까지 그레이디언트를 계산함\n",
    "        err_to_hidden = np.dot(err, self.w2.T) * self.a1 * (1 - self.a1)\n",
    "        #은닉층의 가중치와 절편에 대한 그레이디언트를 계산합니다.\n",
    "        w1_grad = np.dot(x.T, err_to_hidden) / m\n",
    "        b1_grad = np.sum(err_to_hidden, axis = 0) / m\n",
    "        return w1_grad, b1_grad, w2_grad, b2_grad\n",
    "    \n",
    "    def init_weights(self, n_features):\n",
    "        #ones()함수는 인자로 받는 크기만큼 모든 요소를 1로만듬\n",
    "        #zeros()함수는 인자로 받는 크기만큼 모든 요소를 1로만듬\n",
    "        self.w1 = np.ones((n_features, self.units))  #(특성개수, 은닉층의 크기)\n",
    "        self.b1 = np.zeros(self.units)  #은닉층의 크기\n",
    "        self.w2 = np.ones((self.units, 1))  #(은닉층의 크기, 1)\n",
    "        self.b2 = 0\n",
    "        \n",
    "    def fit(self, x, y, epochs=100, x_val=None, y_val = None):\n",
    "        y = y.reshape(-1, 1)  #타깃을 열 벡터로 바꿈.\n",
    "        y_val = y_val.reshape(-1, 1)\n",
    "        m = len(x)           #샘플 개수 저장\n",
    "        self.init_weights(x.shape[1])   # 은닉층과 출력층의 가중치를 초기화\n",
    "        # epochs 만큼 반복\n",
    "        for i in range(epochs):\n",
    "            a = self.training(x, y, m)\n",
    "            # 안전한 로그 계산을 위해 클리핑\n",
    "            a = np.clip(a, 1e-10, 1-1e-10)\n",
    "            # 로그 손실과 규제 손실을 더하여 리스트에 추가함\n",
    "            loss = np.sum(-(y*np.log(a) + (1-y) * np.log(1-a)))\n",
    "            self.losses.append((loss + self.reg_loss()) / m)\n",
    "            # 검증 세트에 대한 손실을 계산함\n",
    "            self.update_val_loss(x_val, y_val)\n",
    "            \n",
    "    def training(self, x, y, m):\n",
    "        z = self.forpass(x)   # 정방향 계산을 수행 함\n",
    "        a = self.activation(z)  # 활성화 함수를 적용함\n",
    "        err = -(y - a)\n",
    "        # 오차를 역전파 하여 그레이디언트를 계산함\n",
    "        w1_grad, b1_grad, w2_grad, b2_grad = self.backprop(x, err)\n",
    "        # 그레이디언트에서 패널티 항의 미분값을 뺍니다.\n",
    "        w1_grad += (self.l1 * np.sign(self.w1) + self.l2 * self.w1) / m  #sign()함수는 각 성분의 부호계산(+인경우 1 -인경우 -1 0은0)\n",
    "        w2_grad += (self.l1 * np.sign(self.w2) + self.l2 * self.w2) / m\n",
    "        #은닉층의 가중치와 절편을 업데이트함\n",
    "        self.w1 -= self.lr * w1_grad\n",
    "        self.b1 -= self.lr * b1_grad\n",
    "        #출력층의 가중치와 절편을 업데이트함\n",
    "        self.w2 -= self.lr * w2_grad\n",
    "        self.b2 -= self.lr * b2_grad\n",
    "        return a\n",
    "        \n",
    "    def reg_loss(self):\n",
    "        #은닉층의 출력층의 가중치에 규제를 적용함\n",
    "        return self.l1 * (np.sum(np.abs(self.w1)) + np.sum(np.abs(self.w2))) + self.l2 / 2 * (np.sum(self.w1**2) + np.sum(self.w2**2))\n",
    "        "
   ]
  },
  {
   "cell_type": "code",
   "execution_count": 10,
   "metadata": {},
   "outputs": [
    {
     "data": {
      "text/plain": [
       "0.978021978021978"
      ]
     },
     "execution_count": 10,
     "metadata": {},
     "output_type": "execute_result"
    }
   ],
   "source": [
    "dual_layer = DualLayer(l2=0.01)\n",
    "dual_layer.fit(x_train_scaled, y_train, x_val = x_val_scaled, y_val=y_val, epochs=20000)\n",
    "dual_layer.score(x_val_scaled, y_val)"
   ]
  },
  {
   "cell_type": "code",
   "execution_count": 11,
   "metadata": {},
   "outputs": [
    {
     "data": {
      "image/png": "[encoded data removed]",
      "text/plain": [
       "<Figure size 432x288 with 1 Axes>"
      ]
     },
     "metadata": {
      "needs_background": "light"
     },
     "output_type": "display_data"
    }
   ],
   "source": [
    "plt.ylim(0, 0.3)\n",
    "plt.plot(dual_layer.losses)\n",
    "plt.plot(dual_layer.val_losses)\n",
    "plt.ylabel('loss')\n",
    "plt.xlabel('epoch')\n",
    "plt.legend(['train_loss', 'val_loss'])\n",
    "plt.show()"
   ]
  },
  {
   "cell_type": "code",
   "execution_count": 12,
   "metadata": {},
   "outputs": [],
   "source": [
    "class RandomInitNetwork(DualLayer):\n",
    "    \n",
    "    def init_weights(self, n_features):\n",
    "        np.random.seed(42)\n",
    "        self.w1 = np.random.normal(0, 1, (n_features, self.units)) #(특성 개수, 은닉층의 크기) #0은 평균 1은 표준편차\n",
    "        self.b1 = np.zeros(self.units)  #은닉층의 크기\n",
    "        self.w2 = np.random.normal(0, 1, (self.units, 1))   #(은닉층의 크기, 1)\n",
    "        self.b2 = 0"
   ]
  },
  {
   "cell_type": "code",
   "execution_count": 13,
   "metadata": {},
   "outputs": [
    {
     "data": {
      "image/png": "[encoded data removed]",
      "text/plain": [
       "<Figure size 432x288 with 1 Axes>"
      ]
     },
     "metadata": {
      "needs_background": "light"
     },
     "output_type": "display_data"
    }
   ],
   "source": [
    "random_init_net = RandomInitNetwork(l2=0.01)\n",
    "random_init_net.fit(x_train_scaled, y_train, x_val=x_val_scaled, y_val=y_val, epochs=500)\n",
    "\n",
    "plt.ylim(0, 0.7)\n",
    "plt.plot(random_init_net.losses)\n",
    "plt.plot(random_init_net.val_losses)\n",
    "plt.ylabel('loss')\n",
    "plt.xlabel('epoch')\n",
    "plt.legend(['train_loss', 'val_loss'])\n",
    "plt.show()"
   ]
  },
  {
   "cell_type": "code",
   "execution_count": 14,
   "metadata": {},
   "outputs": [],
   "source": [
    "# 6-3 미니 배치를 사용하여 모델을 훈련하기\n",
    "class MinibatchNetwork(RandomInitNetwork):\n",
    "    \n",
    "    def __init__(self, units=10, batch_size = 32 , learning_rate = 0.1, l1=0, l2=0):\n",
    "        super().__init__(units, learning_rate, l1, l2)\n",
    "        self.batch_size = batch_size  #배치 크기\n",
    "    \n",
    "    def fit(self, x, y, epochs=100, x_val=None, y_val=None):\n",
    "        y = y.reshape(-1, 1)   #타깃을 열 벡터로 변경\n",
    "        self.init_weights(x.shape[1])  #은닉층과 출력층의 가중치를 초기화\n",
    "        np.random.seed(42)\n",
    "        #epochs만큼 반복\n",
    "        for i in range(epochs):\n",
    "            loss =0\n",
    "            #제너레이터 함수에서 반환한 미니 배치를 순환\n",
    "            for x_batch, y_batch in self.gen_batch(x,y):\n",
    "                y_batch = y_batch.reshape(-1, 1)  #타깃을 열벡터로 변경\n",
    "                y_val = y_val.reshape(-1, 1)   #교재에 없는코드\n",
    "                m = len(x_batch)  #샘플 개수 저장\n",
    "                a = self.training(x_batch, y_batch , m)\n",
    "                # 안전한 로그 계산을 위해 클리핑함\n",
    "                a = np.clip(a, 1e-10, 1-1e-10)\n",
    "                # 로그 손실과 규제 손실을 더하여 리스트에 추가함\n",
    "                loss += np.sum(-(y_batch * np.log(a) + (1-y_batch) * np.log(1-a)))\n",
    "            self.losses.append((loss + self.reg_loss()) / len(x))\n",
    "            # 검증 세트에 대한 손실을 계산함\n",
    "            self.update_val_loss(x_val, y_val)\n",
    "    \n",
    "    # 미니배치 제너레이터 함수\n",
    "    def gen_batch(self, x, y):\n",
    "        length = len(x)\n",
    "        bins = length // self.batch_size  #미니 배치횟수\n",
    "        if length % self.batch_size:\n",
    "            bins += 1     #나누어 떨어지지 않을때\n",
    "        indexes = np.random.permutation(np.arange(len(x)))  #인덱스를 섞는다\n",
    "        x = x[indexes]\n",
    "        y = y[indexes]\n",
    "        for i in range(bins):\n",
    "            start = self.batch_size * i\n",
    "            end = self.batch_size * (i + 1)\n",
    "            yield x[start:end], y[start:end]   # batch_size만큼 슬라이싱하여 반환한다"
   ]
  },
  {
   "cell_type": "code",
   "execution_count": 15,
   "metadata": {},
   "outputs": [
    {
     "data": {
      "text/plain": [
       "0.978021978021978"
      ]
     },
     "execution_count": 15,
     "metadata": {},
     "output_type": "execute_result"
    }
   ],
   "source": [
    "minibatch_net = MinibatchNetwork(l2 = 0.01, batch_size = 32)\n",
    "minibatch_net.fit(x_train_scaled, y_train, x_val = x_val_scaled, y_val = y_val, epochs=500)\n",
    "minibatch_net.score(x_val_scaled, y_val)\n"
   ]
  },
  {
   "cell_type": "code",
   "execution_count": 16,
   "metadata": {},
   "outputs": [
    {
     "data": {
      "image/png": "[encoded data removed]",
      "text/plain": [
       "<Figure size 432x288 with 1 Axes>"
      ]
     },
     "metadata": {
      "needs_background": "light"
     },
     "output_type": "display_data"
    }
   ],
   "source": [
    "plt.plot(minibatch_net.losses)\n",
    "plt.plot(minibatch_net.val_losses)\n",
    "plt.ylabel('loss')\n",
    "plt.xlabel('iteration')\n",
    "plt.legend(['train_loss', 'val_loss'])\n",
    "plt.show()"
   ]
  },
  {
   "cell_type": "code",
   "execution_count": 17,
   "metadata": {},
   "outputs": [
    {
     "data": {
      "text/plain": [
       "0.978021978021978"
      ]
     },
     "execution_count": 17,
     "metadata": {},
     "output_type": "execute_result"
    }
   ],
   "source": [
    "minibatch_net = MinibatchNetwork(l2 = 0.01, batch_size = 128)\n",
    "minibatch_net.fit(x_train_scaled, y_train, x_val = x_val_scaled, y_val = y_val, epochs=500)\n",
    "minibatch_net.score(x_val_scaled, y_val)\n"
   ]
  },
  {
   "cell_type": "code",
   "execution_count": 18,
   "metadata": {},
   "outputs": [
    {
     "data": {
      "image/png": "[encoded data removed]",
      "text/plain": [
       "<Figure size 432x288 with 1 Axes>"
      ]
     },
     "metadata": {
      "needs_background": "light"
     },
     "output_type": "display_data"
    }
   ],
   "source": [
    "plt.plot(minibatch_net.losses)\n",
    "plt.plot(minibatch_net.val_losses)\n",
    "plt.ylabel('loss')\n",
    "plt.xlabel('iteration')\n",
    "plt.legend(['train_loss', 'val_loss'])\n",
    "plt.show()"
   ]
  },
  {
   "cell_type": "code",
   "execution_count": 19,
   "metadata": {},
   "outputs": [
    {
     "data": {
      "text/plain": [
       "0.967032967032967"
      ]
     },
     "execution_count": 19,
     "metadata": {},
     "output_type": "execute_result"
    }
   ],
   "source": [
    "minibatch_net = MinibatchNetwork(l2 = 0.01, batch_size = 256)\n",
    "minibatch_net.fit(x_train_scaled, y_train, x_val = x_val_scaled, y_val = y_val, epochs=500)\n",
    "minibatch_net.score(x_val_scaled, y_val)"
   ]
  },
  {
   "cell_type": "code",
   "execution_count": 20,
   "metadata": {},
   "outputs": [
    {
     "data": {
      "image/png": "[encoded data removed]",
      "text/plain": [
       "<Figure size 432x288 with 1 Axes>"
      ]
     },
     "metadata": {
      "needs_background": "light"
     },
     "output_type": "display_data"
    }
   ],
   "source": [
    "plt.plot(minibatch_net.losses)\n",
    "plt.plot(minibatch_net.val_losses)\n",
    "plt.ylabel('loss')\n",
    "plt.xlabel('iteration')\n",
    "plt.legend(['train_loss', 'val_loss'])\n",
    "plt.show()"
   ]
  },
  {
   "cell_type": "code",
   "execution_count": 21,
   "metadata": {},
   "outputs": [],
   "source": [
    "from sklearn.neural_network import MLPClassifier\n",
    "mlp = MLPClassifier(hidden_layer_sizes=(10, ), activation='logistic',\n",
    "                    solver='sgd', alpha=0.01, batch_size=32, learning_rate_init=0.1, max_iter = 500)"
   ]
  },
  {
   "cell_type": "code",
   "execution_count": 22,
   "metadata": {},
   "outputs": [
    {
     "data": {
      "text/plain": [
       "0.989010989010989"
      ]
     },
     "execution_count": 22,
     "metadata": {},
     "output_type": "execute_result"
    }
   ],
   "source": [
    "mlp.fit(x_train_scaled, y_train)\n",
    "mlp.score(x_val_scaled, y_val)"
   ]
  },
  {
   "cell_type": "code",
   "execution_count": 23,
   "metadata": {},
   "outputs": [],
   "source": [
    "# 7-1 다중 분류 신경망 구현하기\n",
    "class MultiClassNetwork:\n",
    "    \n",
    "    def __init__(self, units=10, batch_size=32, learning_rate=0.1, l1=0, l2=0):\n",
    "        self.units = units  #은닉층의 뉴런개수\n",
    "        self.batch_size = batch_size #배치 크기\n",
    "        self.w1 = None  #은닉층의 가중치\n",
    "        self.b1 = None  #은닉층의 절편\n",
    "        self.w2 = None  #출력층의 가중치\n",
    "        self.b2 = None  #출력층의 절편\n",
    "        self.a1 = None  #은닉층의 활성화 출력\n",
    "        self.losses = []  #훈련손실\n",
    "        self.val_losses = []  #검증 손실\n",
    "        self.lr = learning_rate  #학습률\n",
    "        self.l1 = l1  #L1 손실 하이퍼파라미터\n",
    "        self.l2 = l2  #L2 손실 하이퍼파라미터\n",
    "    \n",
    "    def forpass(self, x):\n",
    "        z1 = np.dot(x, self.w1) + self.b1  #첫번째 층의 선형식 계산\n",
    "        self.a1 = self.sigmoid(z1)  #활성화 함수를 적용\n",
    "        z2 = np.dot(self.a1, self.w2) + self.b2  #두번째 층의 선형식 계산\n",
    "        return z2\n",
    "    \n",
    "    def backprop(self, x, err):\n",
    "        m = len(x)  # 샘플 개수\n",
    "        #출력층의 가중치와 절편에 대한 그레이디언트를 계산\n",
    "        w2_grad = np.dot(self.a1.T, err) / m\n",
    "        b2_grad = np.sum(err) / m\n",
    "        #시그모이드 함수까지 그레이디언트를 계산함\n",
    "        err_to_hidden = np.dot(err, self.w2.T) * self.a1 * (1 - self.a1)\n",
    "        #은닉층의 가중치와 절편에 대한 그레이디언트를 계산합니다.\n",
    "        w1_grad = np.dot(x.T, err_to_hidden) / m\n",
    "        b1_grad = np.sum(err_to_hidden, axis = 0) / m\n",
    "        return w1_grad, b1_grad, w2_grad, b2_grad\n",
    "    \n",
    "    def sigmoid(self, z):\n",
    "        a = 1 / (1 + np.exp(-z))  #시그모이드계산\n",
    "        return a\n",
    "    \n",
    "    def softmax(self, z):\n",
    "        #소프트맥스 함수\n",
    "        exp_z = np.exp(z)  # z의 각원소를 e^z로 만들어줌\n",
    "        return exp_z / np.sum(exp_z, axis=1).reshape(-1, 1)\n",
    "    \n",
    "    def init_weights(self, n_features, n_classes):\n",
    "        self.w1 = np.random.normal(0, 1, (n_features, self.units))  #(특성 개수, 은닉층의 크기)\n",
    "        self.b1 = np.zeros(self.units)  #은닉층의 크기\n",
    "        self.w2 = np.random.normal(0, 1, (self.units, n_classes))   #(은닉층의 크기, 클래스 개수)\n",
    "        self.b2 = np.zeros(n_classes)\n",
    "        \n",
    "    def fit(self, x, y, epochs=100, x_val=None, y_val = None):\n",
    "        np.random.seed(42)\n",
    "        self.init_weights(x.shape[1], y.shape[1])   # 은닉층과 출력층의 가중치를 초기화\n",
    "        # epochs 만큼 반복\n",
    "        for i in range(epochs):\n",
    "            loss = 0\n",
    "            print('.', end='')\n",
    "            #제너레이터 함수에서 반환한 미니 배치를 순환함\n",
    "            for x_batch, y_batch in self.gen_batch(x, y):\n",
    "                a = self.training(x_batch, y_batch)\n",
    "                # 안전한 로그 계산을 위해 클리핑\n",
    "                a = np.clip(a, 1e-10, 1-1e-10)\n",
    "                # 로그 손실과 규제 손실을 더하여 리스트에 추가함\n",
    "                loss += np.sum(-y_batch * np.log(a))\n",
    "            self.losses.append((loss + self.reg_loss()) / len(x))\n",
    "            # 검증 세트에 대한 손실을 계산함\n",
    "            self.update_val_loss(x_val, y_val)\n",
    "            \n",
    "    def gen_batch(self, x, y):\n",
    "        length = len(x)\n",
    "        bins = length // self.batch_size # 미니 배치함수\n",
    "        if length % self.batch_size:\n",
    "            bins += 1                    # 나누어 떨어지지 않을때\n",
    "            indexes = np.random.permutation(np.arange(len(x)))  #인덱스를 섞음\n",
    "            x = x[indexes]\n",
    "            y = y[indexes]\n",
    "        for i in range(bins):\n",
    "            start = self.batch_size * i\n",
    "            end = self.batch_size * (i + 1)\n",
    "            yield x[start:end], y[start:end]   #batch_size 만큼 슬라이싱하여 반환\n",
    "    \n",
    "    def training(self, x, y):\n",
    "        m = len(x)     #샘플 개수 저장        \n",
    "        z = self.forpass(x)   # 정방향 계산을 수행 함\n",
    "        a = self.softmax(z)  # 활성화 함수를 적용함\n",
    "        err = -(y - a)        #오차계산\n",
    "        # 오차를 역전파 하여 그레이디언트를 계산함\n",
    "        w1_grad, b1_grad, w2_grad, b2_grad = self.backprop(x, err)\n",
    "        # 그레이디언트에서 패널티 항의 미분값을 뺍니다.\n",
    "        w1_grad += (self.l1 * np.sign(self.w1) + self.l2 * self.w1) / m\n",
    "        w2_grad += (self.l1 * np.sign(self.w2) + self.l2 * self.w2) / m\n",
    "        #은닉층의 가중치와 절편을 업데이트함\n",
    "        self.w1 -= self.lr * w1_grad\n",
    "        self.b1 -= self.lr * b1_grad\n",
    "        #출력층의 가중치와 절편을 업데이트함\n",
    "        self.w2 -= self.lr * w2_grad\n",
    "        self.b2 -= self.lr * b2_grad\n",
    "        return a\n",
    "    \n",
    "    def predict(self, x):\n",
    "        z = self.forpass(x)     #정방향 계산을 수행\n",
    "        return np.argmax(z, axis = 1)  # 가장 큰 값의 인덱스를 반환 (argmax)\n",
    "    \n",
    "    def score(self, x, y):\n",
    "        # 예측과 타깃 열 벡터를 비교하여 True 비율을 반환합니다.\n",
    "        return np.mean(self.predict(x) == np.argmax(y, axis = 1))\n",
    "        \n",
    "    def reg_loss(self):\n",
    "        #은닉층의 출력층의 가중치에 규제를 적용함\n",
    "        return self.l1 * (np.sum(np.abs(self.w1)) + np.sum(np.abs(self.w2))) + self.l2 / 2 * (np.sum(self.w1**2) + np.sum(self.w2**2))\n",
    "    \n",
    "    def update_val_loss(self, x_val, y_val):\n",
    "        z = self.forpass(x_val)      # 정방향 계산을 수행\n",
    "        a = self.softmax(z)          # 활성화 함수를 적용\n",
    "        a = np.clip(a, 1e-10, 1-1e-10)   #출력값을 클리핑함\n",
    "        #크로스 엔트로피 손실과 규제 손실을 더하여 리스트에 추가합니다.\n",
    "        val_loss = np.sum(-y_val * np.log(a))\n",
    "        self.val_losses.append((val_loss + self.reg_loss()) / len(y_val))"
   ]
  },
  {
   "cell_type": "code",
   "execution_count": 24,
   "metadata": {
    "scrolled": true
   },
   "outputs": [
    {
     "data": {
      "text/plain": [
       "'2.3.1'"
      ]
     },
     "execution_count": 24,
     "metadata": {},
     "output_type": "execute_result"
    }
   ],
   "source": [
    "import tensorflow as tf\n",
    "tf.__version__"
   ]
  },
  {
   "cell_type": "code",
   "execution_count": 25,
   "metadata": {},
   "outputs": [],
   "source": [
    "(x_train_all, y_train_all), (x_test, y_test) = tf.keras.datasets.fashion_mnist.load_data()"
   ]
  },
  {
   "cell_type": "code",
   "execution_count": 26,
   "metadata": {},
   "outputs": [
    {
     "name": "stdout",
     "output_type": "stream",
     "text": [
      "(60000, 28, 28) (60000,)\n"
     ]
    }
   ],
   "source": [
    "print(x_train_all.shape, y_train_all.shape)\n"
   ]
  },
  {
   "cell_type": "code",
   "execution_count": 27,
   "metadata": {
    "scrolled": true
   },
   "outputs": [
    {
     "data": {
      "image/png": "[encoded data removed]",
      "text/plain": [
       "<Figure size 432x288 with 1 Axes>"
      ]
     },
     "metadata": {
      "needs_background": "light"
     },
     "output_type": "display_data"
    }
   ],
   "source": [
    "#import matplotlib.pyplot as plt\n",
    "#imshow()함수로 샘플 이미지 확인하기\n",
    "plt.imshow(x_train_all[0], cmap='gray')\n",
    "plt.show()"
   ]
  },
  {
   "cell_type": "code",
   "execution_count": 28,
   "metadata": {},
   "outputs": [
    {
     "name": "stdout",
     "output_type": "stream",
     "text": [
      "[9 0 0 3 0 2 7 2 5 5]\n"
     ]
    }
   ],
   "source": [
    "#타깃의 내용과 의미확인하기\n",
    "print(y_train_all[:10])"
   ]
  },
  {
   "cell_type": "code",
   "execution_count": 29,
   "metadata": {},
   "outputs": [],
   "source": [
    "class_names = ['티셔츠/윗도리','바지','스웨터','드레스','코트','샌들','셔츠','스니커즈','가방','앵클부츠']"
   ]
  },
  {
   "cell_type": "code",
   "execution_count": 30,
   "metadata": {},
   "outputs": [
    {
     "name": "stdout",
     "output_type": "stream",
     "text": [
      "앵클부츠\n"
     ]
    }
   ],
   "source": [
    "print(class_names[y_train_all[0]])"
   ]
  },
  {
   "cell_type": "code",
   "execution_count": 31,
   "metadata": {},
   "outputs": [
    {
     "data": {
      "text/plain": [
       "array([6000, 6000, 6000, 6000, 6000, 6000, 6000, 6000, 6000, 6000])"
      ]
     },
     "execution_count": 31,
     "metadata": {},
     "output_type": "execute_result"
    }
   ],
   "source": [
    "#타깃 분포 확인하기\n",
    "np.bincount(y_train_all)"
   ]
  },
  {
   "cell_type": "code",
   "execution_count": 32,
   "metadata": {},
   "outputs": [],
   "source": [
    "#훈련 세트와 검증세트 고르게 나누기\n",
    "from sklearn.model_selection import train_test_split\n",
    "x_train, x_val, y_train, y_val = train_test_split(x_train_all, y_train_all, stratify = y_train_all, test_size=0.2, random_state=42)"
   ]
  },
  {
   "cell_type": "code",
   "execution_count": 33,
   "metadata": {},
   "outputs": [
    {
     "data": {
      "text/plain": [
       "array([4800, 4800, 4800, 4800, 4800, 4800, 4800, 4800, 4800, 4800])"
      ]
     },
     "execution_count": 33,
     "metadata": {},
     "output_type": "execute_result"
    }
   ],
   "source": [
    "np.bincount(y_train)\n"
   ]
  },
  {
   "cell_type": "code",
   "execution_count": 34,
   "metadata": {},
   "outputs": [
    {
     "data": {
      "text/plain": [
       "array([1200, 1200, 1200, 1200, 1200, 1200, 1200, 1200, 1200, 1200])"
      ]
     },
     "execution_count": 34,
     "metadata": {},
     "output_type": "execute_result"
    }
   ],
   "source": [
    "np.bincount(y_val)\n"
   ]
  },
  {
   "cell_type": "code",
   "execution_count": 35,
   "metadata": {},
   "outputs": [],
   "source": [
    "#입력 데이터 정규화하기\n",
    "x_train = x_train / 255\n",
    "x_val = x_val / 255\n"
   ]
  },
  {
   "cell_type": "code",
   "execution_count": 36,
   "metadata": {},
   "outputs": [],
   "source": [
    "#훈련 세트와 검증 세트의 차원변경하기\n",
    "x_train = x_train.reshape(-1, 784)\n",
    "x_val = x_val.reshape(-1,784)\n"
   ]
  },
  {
   "cell_type": "code",
   "execution_count": 37,
   "metadata": {},
   "outputs": [
    {
     "name": "stdout",
     "output_type": "stream",
     "text": [
      "(48000, 784) (12000, 784)\n"
     ]
    }
   ],
   "source": [
    "print(x_train.shape, x_val.shape)"
   ]
  },
  {
   "cell_type": "code",
   "execution_count": 38,
   "metadata": {},
   "outputs": [
    {
     "data": {
      "text/plain": [
       "array([[1., 0., 0., 0.],\n",
       "       [0., 1., 0., 0.],\n",
       "       [0., 0., 0., 1.]], dtype=float32)"
      ]
     },
     "execution_count": 38,
     "metadata": {},
     "output_type": "execute_result"
    }
   ],
   "source": [
    "#to_categorical 함수 사용해 원-핫 인코딩 하기\n",
    "tf.keras.utils.to_categorical([0, 1, 3])"
   ]
  },
  {
   "cell_type": "code",
   "execution_count": 39,
   "metadata": {},
   "outputs": [],
   "source": [
    "y_train_encoded = tf.keras.utils.to_categorical(y_train)\n",
    "y_val_encoded = tf.keras.utils.to_categorical(y_val)\n"
   ]
  },
  {
   "cell_type": "code",
   "execution_count": 40,
   "metadata": {},
   "outputs": [
    {
     "name": "stdout",
     "output_type": "stream",
     "text": [
      "(48000, 10) (12000, 10)\n"
     ]
    }
   ],
   "source": [
    "print(y_train_encoded.shape, y_val_encoded.shape)"
   ]
  },
  {
   "cell_type": "code",
   "execution_count": 41,
   "metadata": {},
   "outputs": [
    {
     "name": "stdout",
     "output_type": "stream",
     "text": [
      "6 [0. 0. 0. 0. 0. 0. 1. 0. 0. 0.]\n"
     ]
    }
   ],
   "source": [
    "print(y_train[0], y_train_encoded[0])"
   ]
  },
  {
   "cell_type": "code",
   "execution_count": 42,
   "metadata": {},
   "outputs": [
    {
     "name": "stdout",
     "output_type": "stream",
     "text": [
      "........................................"
     ]
    },
    {
     "data": {
      "text/plain": [
       "0.8150833333333334"
      ]
     },
     "execution_count": 42,
     "metadata": {},
     "output_type": "execute_result"
    }
   ],
   "source": [
    "#MultiClassNetwork 클래스로 다중 분류 신경망 훈련하기\n",
    "fc = MultiClassNetwork(units=100, batch_size=256)\n",
    "fc.fit(x_train, y_train_encoded, x_val=x_val, y_val=y_val_encoded, epochs=40)\n",
    "fc.score(x_val, y_val_encoded)"
   ]
  },
  {
   "cell_type": "code",
   "execution_count": 43,
   "metadata": {},
   "outputs": [
    {
     "data": {
      "image/png": "[encoded data removed]",
      "text/plain": [
       "<Figure size 432x288 with 1 Axes>"
      ]
     },
     "metadata": {
      "needs_background": "light"
     },
     "output_type": "display_data"
    }
   ],
   "source": [
    "plt.plot(fc.losses)\n",
    "plt.plot(fc.val_losses)\n",
    "plt.ylabel('loss')\n",
    "plt.xlabel('iteration')\n",
    "plt.legend(['train_loss', 'val_loss'])\n",
    "plt.show()"
   ]
  },
  {
   "cell_type": "code",
   "execution_count": 44,
   "metadata": {},
   "outputs": [
    {
     "name": "stdout",
     "output_type": "stream",
     "text": [
      "Epoch 1/10\n",
      "1500/1500 [==============================] - 0s 291us/step - loss: nan    \n",
      "Epoch 2/10\n",
      "1500/1500 [==============================] - 0s 274us/step - loss: nan\n",
      "Epoch 3/10\n",
      "1500/1500 [==============================] - 0s 284us/step - loss: nan\n",
      "Epoch 4/10\n",
      "1500/1500 [==============================] - 0s 298us/step - loss: nan\n",
      "Epoch 5/10\n",
      "1500/1500 [==============================] - 0s 292us/step - loss: nan\n",
      "Epoch 6/10\n",
      "1500/1500 [==============================] - 0s 296us/step - loss: nan\n",
      "Epoch 7/10\n",
      "1500/1500 [==============================] - 0s 300us/step - loss: nan\n",
      "Epoch 8/10\n",
      "1500/1500 [==============================] - 0s 301us/step - loss: nan\n",
      "Epoch 9/10\n",
      "1500/1500 [==============================] - 0s 296us/step - loss: nan\n",
      "Epoch 10/10\n",
      "1500/1500 [==============================] - 0s 288us/step - loss: nan\n"
     ]
    },
    {
     "data": {
      "text/plain": [
       "<tensorflow.python.keras.callbacks.History at 0x7f5e07616100>"
      ]
     },
     "execution_count": 44,
     "metadata": {},
     "output_type": "execute_result"
    }
   ],
   "source": [
    "# #7-2 텐서플로와 케라스를 사용하여 신경망 만들기\n",
    "\n",
    "# #훈련할 가중치 변수를 선언\n",
    "# w = tf.Variable(tf.zeros(shape=(1)))\n",
    "# b = tf.Variable(tf.zeros(shape=(1)))\n",
    "\n",
    "# #경사하강법 옵티마이저 설정\n",
    "# optimizer = tf.optimizers.SGD(lr = 0.01)\n",
    "# #에포크 횟수만큼 훈련\n",
    "# num_epochs = 10\n",
    "# for step in range(num_epochs):\n",
    "    \n",
    "#     #자동 미분을 위해 연산과정 기록\n",
    "#     with tf.GradientTape() as tape:\n",
    "#         z_net = w * x_train + b\n",
    "#         z_net = tf.reshape(z_net, [-1])\n",
    "#         sqr_errors = tf.square(y_train - z_net)\n",
    "#         mean_cost = tf.reduce_mean(sqr_errors)\n",
    "#     #손실 함수에 대한 가중치의 그레이디언트를 계산\n",
    "#     grads = tape.gradient(mean_cost, [w, b])\n",
    "#     #옵티마이저에 그레이디언트를 반영합니다.\n",
    "#     optimizer.apply_gradients(zip(grads, [w, b]))\n",
    "\n",
    "#신경망 모델을 만든다.\n",
    "model = tf.keras.models.Sequential()\n",
    "#완전 연결층을 추가합니다.\n",
    "model.add(tf.keras.layers.Dense(1))\n",
    "#옵티마이저와 손실함수를 지정합니다.\n",
    "model.compile(optimizer='sgd', loss='mse')\n",
    "#훈련 데이터를 사용하여 에포크 횟수만큼 훈련합니다.\n",
    "model.fit(x_train, y_train, epochs=10)"
   ]
  },
  {
   "cell_type": "code",
   "execution_count": 45,
   "metadata": {},
   "outputs": [],
   "source": [
    "from tensorflow.keras import Sequential\n",
    "from tensorflow.keras.layers import Dense\n",
    "\n",
    "model = Sequential()\n"
   ]
  },
  {
   "cell_type": "code",
   "execution_count": 46,
   "metadata": {},
   "outputs": [],
   "source": [
    "model.add(Dense(100, activation='sigmoid', input_shape = (784, )))\n",
    "model.add(Dense(10, activation = 'softmax'))\n"
   ]
  },
  {
   "cell_type": "code",
   "execution_count": 47,
   "metadata": {},
   "outputs": [],
   "source": [
    "model.compile(optimizer='sgd', loss='categorical_crossentropy', metrics=['accuracy'])"
   ]
  },
  {
   "cell_type": "code",
   "execution_count": 48,
   "metadata": {},
   "outputs": [
    {
     "name": "stdout",
     "output_type": "stream",
     "text": [
      "Epoch 1/40\n",
      "1500/1500 [==============================] - 1s 805us/step - loss: 1.3924 - accuracy: 0.6369 - val_loss: 0.9675 - val_accuracy: 0.7314\n",
      "Epoch 2/40\n",
      "1500/1500 [==============================] - 1s 728us/step - loss: 0.8459 - accuracy: 0.7451 - val_loss: 0.7532 - val_accuracy: 0.7686\n",
      "Epoch 3/40\n",
      "1500/1500 [==============================] - 1s 738us/step - loss: 0.7134 - accuracy: 0.7646 - val_loss: 0.6651 - val_accuracy: 0.7798\n",
      "Epoch 4/40\n",
      "1500/1500 [==============================] - 1s 739us/step - loss: 0.6486 - accuracy: 0.7789 - val_loss: 0.6141 - val_accuracy: 0.7926\n",
      "Epoch 5/40\n",
      "1500/1500 [==============================] - 1s 733us/step - loss: 0.6069 - accuracy: 0.7924 - val_loss: 0.5791 - val_accuracy: 0.8028\n",
      "Epoch 6/40\n",
      "1500/1500 [==============================] - 1s 730us/step - loss: 0.5766 - accuracy: 0.8017 - val_loss: 0.5527 - val_accuracy: 0.8096\n",
      "Epoch 7/40\n",
      "1500/1500 [==============================] - 1s 719us/step - loss: 0.5537 - accuracy: 0.8096 - val_loss: 0.5328 - val_accuracy: 0.8160\n",
      "Epoch 8/40\n",
      "1500/1500 [==============================] - 1s 723us/step - loss: 0.5353 - accuracy: 0.8146 - val_loss: 0.5153 - val_accuracy: 0.8207\n",
      "Epoch 9/40\n",
      "1500/1500 [==============================] - 1s 730us/step - loss: 0.5205 - accuracy: 0.8201 - val_loss: 0.5019 - val_accuracy: 0.8253\n",
      "Epoch 10/40\n",
      "1500/1500 [==============================] - 1s 742us/step - loss: 0.5080 - accuracy: 0.8235 - val_loss: 0.4921 - val_accuracy: 0.8273\n",
      "Epoch 11/40\n",
      "1500/1500 [==============================] - 1s 724us/step - loss: 0.4972 - accuracy: 0.8278 - val_loss: 0.4813 - val_accuracy: 0.8327\n",
      "Epoch 12/40\n",
      "1500/1500 [==============================] - 1s 721us/step - loss: 0.4880 - accuracy: 0.8304 - val_loss: 0.4738 - val_accuracy: 0.8342\n",
      "Epoch 13/40\n",
      "1500/1500 [==============================] - 1s 738us/step - loss: 0.4800 - accuracy: 0.8322 - val_loss: 0.4664 - val_accuracy: 0.8356\n",
      "Epoch 14/40\n",
      "1500/1500 [==============================] - 1s 736us/step - loss: 0.4729 - accuracy: 0.8344 - val_loss: 0.4582 - val_accuracy: 0.8389\n",
      "Epoch 15/40\n",
      "1500/1500 [==============================] - 1s 729us/step - loss: 0.4663 - accuracy: 0.8367 - val_loss: 0.4527 - val_accuracy: 0.8398\n",
      "Epoch 16/40\n",
      "1500/1500 [==============================] - 1s 730us/step - loss: 0.4605 - accuracy: 0.8392 - val_loss: 0.4479 - val_accuracy: 0.8418\n",
      "Epoch 17/40\n",
      "1500/1500 [==============================] - 1s 727us/step - loss: 0.4551 - accuracy: 0.8410 - val_loss: 0.4428 - val_accuracy: 0.8435\n",
      "Epoch 18/40\n",
      "1500/1500 [==============================] - 1s 742us/step - loss: 0.4501 - accuracy: 0.8430 - val_loss: 0.4381 - val_accuracy: 0.8453\n",
      "Epoch 19/40\n",
      "1500/1500 [==============================] - 1s 729us/step - loss: 0.4455 - accuracy: 0.8441 - val_loss: 0.4354 - val_accuracy: 0.8438\n",
      "Epoch 20/40\n",
      "1500/1500 [==============================] - 1s 750us/step - loss: 0.4415 - accuracy: 0.8454 - val_loss: 0.4307 - val_accuracy: 0.8472\n",
      "Epoch 21/40\n",
      "1500/1500 [==============================] - 1s 756us/step - loss: 0.4374 - accuracy: 0.8462 - val_loss: 0.4281 - val_accuracy: 0.8481\n",
      "Epoch 22/40\n",
      "1500/1500 [==============================] - 1s 755us/step - loss: 0.4335 - accuracy: 0.8476 - val_loss: 0.4256 - val_accuracy: 0.8493\n",
      "Epoch 23/40\n",
      "1500/1500 [==============================] - 1s 739us/step - loss: 0.4305 - accuracy: 0.8494 - val_loss: 0.4218 - val_accuracy: 0.8527\n",
      "Epoch 24/40\n",
      "1500/1500 [==============================] - 1s 736us/step - loss: 0.4274 - accuracy: 0.8500 - val_loss: 0.4184 - val_accuracy: 0.8524\n",
      "Epoch 25/40\n",
      "1500/1500 [==============================] - 1s 736us/step - loss: 0.4241 - accuracy: 0.8503 - val_loss: 0.4170 - val_accuracy: 0.8528\n",
      "Epoch 26/40\n",
      "1500/1500 [==============================] - 1s 750us/step - loss: 0.4211 - accuracy: 0.8517 - val_loss: 0.4138 - val_accuracy: 0.8538\n",
      "Epoch 27/40\n",
      "1500/1500 [==============================] - 1s 732us/step - loss: 0.4185 - accuracy: 0.8525 - val_loss: 0.4118 - val_accuracy: 0.8537\n",
      "Epoch 28/40\n",
      "1500/1500 [==============================] - 1s 745us/step - loss: 0.4157 - accuracy: 0.8530 - val_loss: 0.4099 - val_accuracy: 0.8561\n",
      "Epoch 29/40\n",
      "1500/1500 [==============================] - 1s 748us/step - loss: 0.4133 - accuracy: 0.8542 - val_loss: 0.4079 - val_accuracy: 0.8565\n",
      "Epoch 30/40\n",
      "1500/1500 [==============================] - 1s 762us/step - loss: 0.4106 - accuracy: 0.8552 - val_loss: 0.4050 - val_accuracy: 0.8573\n",
      "Epoch 31/40\n",
      "1500/1500 [==============================] - 1s 751us/step - loss: 0.4086 - accuracy: 0.8563 - val_loss: 0.4024 - val_accuracy: 0.8593\n",
      "Epoch 32/40\n",
      "1500/1500 [==============================] - 1s 759us/step - loss: 0.4063 - accuracy: 0.8575 - val_loss: 0.4016 - val_accuracy: 0.8582\n",
      "Epoch 33/40\n",
      "1500/1500 [==============================] - 1s 752us/step - loss: 0.4041 - accuracy: 0.8579 - val_loss: 0.4001 - val_accuracy: 0.8590\n",
      "Epoch 34/40\n",
      "1500/1500 [==============================] - 1s 734us/step - loss: 0.4018 - accuracy: 0.8587 - val_loss: 0.3974 - val_accuracy: 0.8598\n",
      "Epoch 35/40\n",
      "1500/1500 [==============================] - 1s 743us/step - loss: 0.4000 - accuracy: 0.8583 - val_loss: 0.3971 - val_accuracy: 0.8597\n",
      "Epoch 36/40\n",
      "1500/1500 [==============================] - 1s 728us/step - loss: 0.3979 - accuracy: 0.8589 - val_loss: 0.3955 - val_accuracy: 0.8604\n",
      "Epoch 37/40\n",
      "1500/1500 [==============================] - 1s 751us/step - loss: 0.3962 - accuracy: 0.8601 - val_loss: 0.3930 - val_accuracy: 0.8601\n",
      "Epoch 38/40\n",
      "1500/1500 [==============================] - 1s 743us/step - loss: 0.3944 - accuracy: 0.8605 - val_loss: 0.3943 - val_accuracy: 0.8608\n",
      "Epoch 39/40\n",
      "1500/1500 [==============================] - 1s 728us/step - loss: 0.3924 - accuracy: 0.8610 - val_loss: 0.3902 - val_accuracy: 0.8617\n",
      "Epoch 40/40\n",
      "1500/1500 [==============================] - 1s 742us/step - loss: 0.3908 - accuracy: 0.8618 - val_loss: 0.3886 - val_accuracy: 0.8630\n"
     ]
    }
   ],
   "source": [
    "history = model.fit(x_train, y_train_encoded, epochs=40, validation_data = (x_val, y_val_encoded))"
   ]
  },
  {
   "cell_type": "code",
   "execution_count": 54,
   "metadata": {},
   "outputs": [
    {
     "ename": "AttributeError",
     "evalue": "'History' object has no attribute 'summary'",
     "output_type": "error",
     "traceback": [
      "\u001b[0;31m---------------------------------------------------------------------------\u001b[0m",
      "\u001b[0;31mAttributeError\u001b[0m                            Traceback (most recent call last)",
      "\u001b[0;32m<ipython-input-54-25891bc9d44a>\u001b[0m in \u001b[0;36m<module>\u001b[0;34m\u001b[0m\n\u001b[0;32m----> 1\u001b[0;31m \u001b[0mhistory\u001b[0m\u001b[0;34m.\u001b[0m\u001b[0msummary\u001b[0m\u001b[0;34m(\u001b[0m\u001b[0;34m)\u001b[0m\u001b[0;34m\u001b[0m\u001b[0;34m\u001b[0m\u001b[0m\n\u001b[0m",
      "\u001b[0;31mAttributeError\u001b[0m: 'History' object has no attribute 'summary'"
     ]
    }
   ],
   "source": [
    "history.summary()"
   ]
  },
  {
   "cell_type": "code",
   "execution_count": 50,
   "metadata": {},
   "outputs": [
    {
     "data": {
      "image/png": "[encoded data removed]",
      "text/plain": [
       "<Figure size 432x288 with 1 Axes>"
      ]
     },
     "metadata": {
      "needs_background": "light"
     },
     "output_type": "display_data"
    }
   ],
   "source": [
    "plt.plot(history.history['loss'])\n",
    "plt.plot(history.history['val_loss'])\n",
    "plt.ylabel('loss')\n",
    "plt.xlabel('epoch')\n",
    "plt.legend(['train_loss', 'val_loss'])\n",
    "plt.show()"
   ]
  },
  {
   "cell_type": "code",
   "execution_count": 51,
   "metadata": {},
   "outputs": [
    {
     "data": {
      "image/png": "[encoded data removed]",
      "text/plain": [
       "<Figure size 432x288 with 1 Axes>"
      ]
     },
     "metadata": {
      "needs_background": "light"
     },
     "output_type": "display_data"
    }
   ],
   "source": [
    "plt.plot(history.history['accuracy'])\n",
    "plt.plot(history.history['val_accuracy'])\n",
    "plt.ylabel('loss')\n",
    "plt.xlabel('epoch')\n",
    "plt.legend(['train_accuracy', 'val_accuracy'])\n",
    "plt.show()"
   ]
  },
  {
   "cell_type": "code",
   "execution_count": 52,
   "metadata": {},
   "outputs": [
    {
     "name": "stdout",
     "output_type": "stream",
     "text": [
      "0.8629999756813049\n"
     ]
    }
   ],
   "source": [
    "loss, accuracy = model.evaluate(x_val, y_val_encoded, verbose = 0)\n",
    "print(accuracy)"
   ]
  },
  {
   "cell_type": "code",
   "execution_count": 53,
   "metadata": {},
   "outputs": [
    {
     "name": "stdout",
     "output_type": "stream",
     "text": [
      "0.3886398375034332\n"
     ]
    }
   ],
   "source": [
    "print(loss)"
   ]
  },
  {
   "cell_type": "code",
   "execution_count": null,
   "metadata": {},
   "outputs": [],
   "source": []
  }
 ],
 "metadata": {
  "colab": {
   "authorship_tag": "ABX9TyO0EY5A84w1ZLLTrYanFQbn",
   "name": "다중신경망.ipynb",
   "provenance": []
  },
  "kernelspec": {
   "display_name": "Python 3",
   "language": "python",
   "name": "python3"
  },
  "language_info": {
   "codemirror_mode": {
    "name": "ipython",
    "version": 3
   },
   "file_extension": ".py",
   "mimetype": "text/x-python",
   "name": "python",
   "nbconvert_exporter": "python",
   "pygments_lexer": "ipython3",
   "version": "3.8.3"
  }
 },
 "nbformat": 4,
 "nbformat_minor": 1
}
